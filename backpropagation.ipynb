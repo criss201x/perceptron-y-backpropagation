{
 "cells": [
  {
   "cell_type": "code",
   "execution_count": 1,
   "metadata": {},
   "outputs": [],
   "source": [
    "import numpy as np"
   ]
  },
  {
   "cell_type": "code",
   "execution_count": 2,
   "metadata": {},
   "outputs": [],
   "source": [
    "#Defina las funciones de activación\n",
    "def Fun_activacion(x):\n",
    "    #Función Tangente hiperbolica\n",
    "    return np.tanh(x)"
   ]
  },
  {
   "cell_type": "code",
   "execution_count": 3,
   "metadata": {},
   "outputs": [],
   "source": [
    "def Fun_activacion_prima(x):\n",
    "    #Función derivada (aproximada para simplificar el cálculo)\n",
    "    return 1.0 - x**2"
   ]
  },
  {
   "cell_type": "code",
   "execution_count": 4,
   "metadata": {},
   "outputs": [],
   "source": [
    "class Red_neuronal:\n",
    "    def __init__(self, capas):\n",
    "        self.activacion       = Fun_activacion\n",
    "        self.activacion_prima = Fun_activacion_prima\n",
    "        # Iniciar vector de pesos\n",
    "        self.pesos = []\n",
    "        # capas = [2,2,1]\n",
    "        # Los rangos de los pesos están entre (-1,1)\n",
    "        # Entrada y capas ocultas = capas - random((2+1, 2+1)) : 3 x 3\n",
    "        # Este for inicializa los pesos\n",
    "        for i in range(1, len(capas)-1):\n",
    "            r = 2*np.random.random((capas[i-1]+1, capas[i] + 1))-1\n",
    "            self.pesos.append(r)\n",
    "        # Capa de salida capa - random((2+1, 1)) : 3 x 1\n",
    "        r = 2*np.random.random((capas[i]+1, capas[i+1]))-1\n",
    "        self.pesos.append(r)\n",
    "    \n",
    "    def Optimizar_pesos(self, X, y, taza_aprendizaje=0.7, actualizaciones=200000):\n",
    "         # Agregue una capa de unos a X que representa el bias\n",
    "         ones = np.atleast_2d(np.ones(X.shape[0]))\n",
    "         X = np.concatenate((ones.T, X), axis=1)      \n",
    "         #Función de entrenamiento de la red\n",
    "         for k in range(actualizaciones):\n",
    "             #Publica cada 1000 iteraciones\n",
    "             if k % 10000 == 0: \n",
    "                 print ('Actualizaciones:', k)\n",
    "             #Tomar los valores de entrada\n",
    "             i = np.random.randint(X.shape[0])\n",
    "             a = [X[i]]\n",
    "             #Realice el producto punto entre la entrada y la función de \n",
    "             #Activación\n",
    "             for l in range(len(self.pesos)):\n",
    "                     producto_punto = np.dot(a[l], self.pesos[l])\n",
    "                     activacion = self.activacion(producto_punto)\n",
    "                     a.append(activacion)\n",
    "             # Estime el valor del error esperado entre la salida deseada\n",
    "             # y el valor calculado\n",
    "             error = y[i] - a[-1]\n",
    "             # Multiplique su resultado por la derivada de la función de \n",
    "             # activación (a[-1] es el valor de salida calculado el -1\n",
    "             # indica que es el último valor de la lista)\n",
    "             deltas = [error * self.activacion_prima(a[-1])]\n",
    "             # Calcule el valor del error por la derivada de la función de \n",
    "             # activación (a es la capa antes de la etapa de salida)\n",
    "             for l in range(len(a) - 2, 0, -1): \n",
    "                 deltas.append(deltas[-1].dot(self.pesos[l].T)*self.activacion_prima(a[l]))\n",
    "             # Mueva el valor calculado a la capa correspondiente             \n",
    "             deltas.reverse()\n",
    "             # Algoritmo de propagación hacia atras\n",
    "             # 1. multiplique delta y la función de activación \n",
    "             #    para obtener el gradiente del peso.\n",
    "             # 2. Actualice los pesos de acuerdo con el gradiente \n",
    "             for i in range(len(self.pesos)):\n",
    "                 capa = np.atleast_2d(a[i])\n",
    "                 delta = np.atleast_2d(deltas[i])\n",
    "                 self.pesos[i] += taza_aprendizaje * capa.T.dot(delta)\n",
    "    \n",
    "    def predecir(self, x):   \n",
    "        #Agregue bias a X\n",
    "        a = np.concatenate((np.ones(1).T, np.array(x)))  \n",
    "        #Realice un producto punto con los pesos de la red\n",
    "        for l in range(0, len(self.pesos)):\n",
    "            a = self.activacion(np.dot(a, self.pesos[l]))\n",
    "        return a"
   ]
  },
  {
   "cell_type": "code",
   "execution_count": 5,
   "metadata": {},
   "outputs": [
    {
     "name": "stdout",
     "output_type": "stream",
     "text": [
      "Actualizaciones: 0\n",
      "Actualizaciones: 10000\n",
      "Actualizaciones: 20000\n",
      "Actualizaciones: 30000\n",
      "Actualizaciones: 40000\n",
      "Actualizaciones: 50000\n",
      "Actualizaciones: 60000\n",
      "Actualizaciones: 70000\n",
      "Actualizaciones: 80000\n",
      "Actualizaciones: 90000\n",
      "Actualizaciones: 100000\n",
      "Actualizaciones: 110000\n",
      "Actualizaciones: 120000\n",
      "Actualizaciones: 130000\n",
      "Actualizaciones: 140000\n",
      "Actualizaciones: 150000\n",
      "Actualizaciones: 160000\n",
      "Actualizaciones: 170000\n",
      "Actualizaciones: 180000\n",
      "Actualizaciones: 190000\n",
      "[0 0] [5.75633984e-05]\n",
      "[0 1] [0.99865345]\n",
      "[1 0] [0.9988131]\n",
      "[1 1] [-0.00011462]\n"
     ]
    }
   ],
   "source": [
    "if __name__ == \"__main__\":\n",
    "    #Defina la cantidad de capas de la red\n",
    "    #2 entradas, 2 capas ocultas, 1 capa de salida\n",
    "    RNA = Red_neuronal([2,2,1])\n",
    "    #Vectores de entrenamiento\n",
    "    X = np.array([[0, 0],\n",
    "                  [0, 1],\n",
    "                  [1, 0],\n",
    "                  [1, 1]])\n",
    "    y = np.array([0, 1, 1, 0])\n",
    "    RNA.Optimizar_pesos(X, y)\n",
    "    #Prediga el valor de salida\n",
    "    for e in X:\n",
    "        print(e, RNA.predecir(e))"
   ]
  },
  {
   "cell_type": "code",
   "execution_count": null,
   "metadata": {},
   "outputs": [],
   "source": []
  }
 ],
 "metadata": {
  "kernelspec": {
   "display_name": "Python 3",
   "language": "python",
   "name": "python3"
  },
  "language_info": {
   "codemirror_mode": {
    "name": "ipython",
    "version": 3
   },
   "file_extension": ".py",
   "mimetype": "text/x-python",
   "name": "python",
   "nbconvert_exporter": "python",
   "pygments_lexer": "ipython3",
   "version": "3.8.5"
  }
 },
 "nbformat": 4,
 "nbformat_minor": 4
}
