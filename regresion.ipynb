{
 "cells": [
  {
   "cell_type": "code",
   "execution_count": 2,
   "metadata": {},
   "outputs": [],
   "source": [
    "import matplotlib.pyplot as plt\n",
    "from sklearn import datasets\n",
    "from sklearn.linear_model import LinearRegression\n"
   ]
  },
  {
   "cell_type": "code",
   "execution_count": 5,
   "metadata": {},
   "outputs": [],
   "source": [
    "if __name__ == '__main__ ':\n",
    "    dataset = datasets.load_boston()\n",
    "    \n",
    "    y = dataset['target']\n",
    "    x = dataset['data']\n",
    "    \n",
    "    modelo = LinearRegression()\n",
    "    \n",
    "    modelo.fit(X=x, y=y)\n",
    "    \n",
    "    predicciones = modelo.predict()\n",
    "    \n",
    "    for y1, y_pred in list(zip(y, predicciones)) [:5]:\n",
    "        print(\"valor real: {:.3f} valor estimado: {:.5f}\".format(y1,y_pred))\n",
    "        \n",
    "    \n",
    "    plt.plot(predicciones,'r',y,'g')\n",
    "    plt.grid(linewidth='2')\n",
    "    plt.grid(linewidth='2')\n",
    "    plt.grid(none)\n",
    "    "
   ]
  },
  {
   "cell_type": "code",
   "execution_count": 6,
   "metadata": {},
   "outputs": [],
   "source": [
    "plt.show()"
   ]
  },
  {
   "cell_type": "code",
   "execution_count": null,
   "metadata": {},
   "outputs": [],
   "source": []
  }
 ],
 "metadata": {
  "kernelspec": {
   "display_name": "Python 3",
   "language": "python",
   "name": "python3"
  },
  "language_info": {
   "codemirror_mode": {
    "name": "ipython",
    "version": 3
   },
   "file_extension": ".py",
   "mimetype": "text/x-python",
   "name": "python",
   "nbconvert_exporter": "python",
   "pygments_lexer": "ipython3",
   "version": "3.8.5"
  }
 },
 "nbformat": 4,
 "nbformat_minor": 4
}
