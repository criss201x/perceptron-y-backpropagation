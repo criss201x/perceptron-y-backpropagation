import numpy as np

class Perceptron:
    def __init__(self, entradas, salidas ):
        self.entradas_rna = np.array(entradas)
        self.salidas_rna = np.array(salidas)
        
    def optimizar_pesos(self):
        epocas, num_entradas = 0, 0 
        while num_entradas < 4:
            print('-------iteracion {}'.format(epocas))
            pesos = np.array(np.random.uniform(-1,1, self.entradas_rna.shape))
            for entrada_red, peso, salida_red in zip(self.entradas_rna, pesos, self.salidas_rna):
                salida_generada = entrada_red@peso
                print(salida_generada)
                salida_generada = 0 if salida_generada < 0 else 1
                if salida_generada == salida_red:
                    num_entradas +=1
                else:
                    num_entradas=0
                    
                print('entrada \n', entrada_red, ' pesos: \n', peso, ' salida esperada \n',salida_red, 'salida obtenida: \n', salida_generada)
        
        epocas +=1
        return True 


if __name__ == '__main__':
    entradas = [
        [0,0,1],
        [0,1,1],
        [1,0,1],
        [1,1,1]        
    ]
    salidas = [0,0,0,1]
    perceptron = Perceptron(entradas, salidas)
    perceptron.optimizar_pesos()



