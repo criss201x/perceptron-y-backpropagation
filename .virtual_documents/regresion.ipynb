import matplotlib.pyplot as plt
from sklearn import datasets
from sklearn.linear_model import LinearRegression



if __name__ == '__main__ ':
    dataset = datasets.load_boston()
    
    y = dataset['target']
    x = dataset['data']
    
    modelo = LinearRegression()
    
    modelo.fit(X=x, y=y)
    
    predicciones = modelo.predict()
    
    for y1, y_pred in list(zip(y, predicciones)) [:5]:
        print("valor real: {:.3f} valor estimado: {:.5f}".format(y1,y_pred))
        
    
    plt.plot(predicciones,'r',y,'g')
    plt.grid(linewidth='2')
    plt.grid(linewidth='2')
    plt.grid(none)
    


plt.show()



