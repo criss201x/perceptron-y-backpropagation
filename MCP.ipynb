{
 "cells": [
  {
   "cell_type": "code",
   "execution_count": 1,
   "metadata": {},
   "outputs": [],
   "source": [
    "import numpy as np\n",
    "import pandas as pd\n",
    "import matplotlib.pyplot as plt"
   ]
  },
  {
   "cell_type": "code",
   "execution_count": 2,
   "metadata": {},
   "outputs": [],
   "source": [
    "#Defina el perceptrón 2\n",
    "class Perceptron:\n",
    "    \"\"\"  Alfa: Es la tasa de aprendizaje\n",
    "         n_iter: Cantidad de comparaciones con el dataset.\n",
    "         w_: Pesos\n",
    "         errors_: Error estimado\n",
    "    \"\"\"\n",
    "    def __init__(self, Alfa=0.1, n_iter=10):\n",
    "        self.A = Alfa\n",
    "        self.n_iter = n_iter\n",
    " \n",
    "    def Optimizar_pesos(self, X, y):\n",
    "        \"\"\" X:  array like, forma = [n_samples, n_features]\n",
    "                Vectores de entrenamiento donde n_samples es el número de muestras y\n",
    "                n_features es el número de carácteristicas de cada muestra.\n",
    "            y:  array-like, forma = [n_samples].\n",
    "                Valores de destino\n",
    "        \"\"\"\n",
    "        #Cree el vector de pesos w_i (Iniciado en 0 de longitud X)\n",
    "        self.w_ = np.zeros(1 + X.shape[1])\n",
    "        #Cree un vector para estimar el margen de error\n",
    "        self.errors_ = []\n",
    " \n",
    "        for _ in range(self.n_iter):\n",
    "            errors = 0\n",
    "            #xi es el valor de la entrada en una iteración\n",
    "            #target es el valor a predecir\n",
    "            for xi, target in zip(X, y):\n",
    "                actualizacion = self.A * (target - self.predict(xi))\n",
    "                self.w_[1:] += actualizacion * xi\n",
    "                self.w_[0] += actualizacion\n",
    "                #Convierta en entero si valor diferente de 0.0\n",
    "                errors += int(actualizacion != 0.0)\n",
    "            self.errors_.append(errors)\n",
    "        return self\n",
    " \n",
    "    def predict(self, X):\n",
    "        \"\"\"Devolver clase usando función escalón de Heaviside (Activación).\n",
    "        phi(z) = 1 si z >= theta; -1 en otro caso\n",
    "        \"\"\"\n",
    "        phi = np.where(self.net_input(X) >= 0.0, 1, -1)\n",
    "        return phi\n",
    " \n",
    "    def net_input(self, X):\n",
    "        \"\"\"Calcular el valor z (net input)\"\"\"\n",
    "        # z = w · x + theta\n",
    "        z = np.dot(X, self.w_[1:]) + self.w_[0]\n",
    "        return z"
   ]
  },
  {
   "cell_type": "code",
   "execution_count": 3,
   "metadata": {},
   "outputs": [
    {
     "data": {
      "image/png": "[encoded data removed]",
      "text/plain": [
       "<Figure size 432x288 with 1 Axes>"
      ]
     },
     "metadata": {
      "needs_background": "light"
     },
     "output_type": "display_data"
    },
    {
     "name": "stdout",
     "output_type": "stream",
     "text": [
      "Theta: -0.4\n",
      "W: [-0.68  1.82]\n",
      "X: [Largo tallo, Largo pétalo]\n",
      "z = W · X\n",
      "phi(z) = 1 si z &gt;= theta; -1 c.o.c\n"
     ]
    }
   ],
   "source": [
    "#Definición de la función principal\n",
    "if __name__ == '__main__':\n",
    "    # Cargue el dataset\n",
    "    df = pd.read_csv(\"iris.data\", header=None)\n",
    "    # Extraer las caracteristicas de interes.\n",
    "    X = df.iloc[0:100, [0, 2]].values\n",
    "    # Seleccionar Setosa y Versicolor.\n",
    "    y = df.iloc[0:100, 4].values\n",
    "    y = np.where(y == 'Iris-setosa', -1, 1)\n",
    "    # Inicialice el perceptron\n",
    "    percep = Perceptron(Alfa=0.1, n_iter=10)\n",
    "    # Entrene el perceptrón X e y\n",
    "    percep.Optimizar_pesos(X, y)\n",
    "    # Grafique el numero de errores por iteración\n",
    "    plt.plot(range(1, len(percep.errors_) + 1), percep.errors_, marker='o')\n",
    "    plt.xlabel('Epochs')\n",
    "    plt.ylabel('Número de actualizaciones')\n",
    "    plt.tight_layout()\n",
    "    plt.show()\n",
    "    #Otras características\n",
    "    print(\"Theta: \" + str(percep.w_[0])) \n",
    "    print(\"W: \" + str(percep.w_[1:]))\n",
    "    print(\"X: [Largo tallo, Largo pétalo]\")\n",
    "    print(\"z = W · X\")\n",
    "    print(\"phi(z) = 1 si z &gt;= theta; -1 c.o.c\")"
   ]
  },
  {
   "cell_type": "code",
   "execution_count": null,
   "metadata": {},
   "outputs": [],
   "source": []
  }
 ],
 "metadata": {
  "kernelspec": {
   "display_name": "Python 3",
   "language": "python",
   "name": "python3"
  },
  "language_info": {
   "codemirror_mode": {
    "name": "ipython",
    "version": 3
   },
   "file_extension": ".py",
   "mimetype": "text/x-python",
   "name": "python",
   "nbconvert_exporter": "python",
   "pygments_lexer": "ipython3",
   "version": "3.8.5"
  }
 },
 "nbformat": 4,
 "nbformat_minor": 4
}
