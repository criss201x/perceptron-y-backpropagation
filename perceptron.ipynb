{
 "cells": [
  {
   "cell_type": "code",
   "execution_count": 11,
   "metadata": {},
   "outputs": [],
   "source": [
    "import numpy as np\n",
    "\n",
    "class Perceptron:\n",
    "    def __init__(self, entradas, salidas ):\n",
    "        self.entradas_rna = np.array(entradas)\n",
    "        self.salidas_rna = np.array(salidas)\n",
    "        \n",
    "    def optimizar_pesos(self):\n",
    "        epocas, num_entradas = 0, 0 \n",
    "        while num_entradas < 4:\n",
    "            print('-------iteracion {}'.format(epocas))\n",
    "            pesos = np.array(np.random.uniform(-1,1, self.entradas_rna.shape))\n",
    "            for entrada_red, peso, salida_red in zip(self.entradas_rna, pesos, self.salidas_rna):\n",
    "                salida_generada = entrada_red@peso\n",
    "                print(salida_generada)\n",
    "                salida_generada = 0 if salida_generada < 0 else 1\n",
    "                if salida_generada == salida_red:\n",
    "                    num_entradas +=1\n",
    "                else:\n",
    "                    num_entradas=0\n",
    "                    \n",
    "                print('entrada \\n', entrada_red, ' pesos: \\n', peso, ' salida esperada \\n',salida_red, 'salida obtenida: \\n', salida_generada)\n",
    "        \n",
    "        epocas +=1\n",
    "        return True "
   ]
  },
  {
   "cell_type": "code",
   "execution_count": 12,
   "metadata": {},
   "outputs": [
    {
     "name": "stdout",
     "output_type": "stream",
     "text": [
      "-------iteracion 0\n",
      "0.58368511458269\n",
      "entrada \n",
      " [0 0 1]  pesos: \n",
      " [-0.58137851 -0.60109509  0.58368511]  salida esperada \n",
      " 0 salida obtenida: \n",
      " 1\n",
      "0.24380247277305678\n",
      "entrada \n",
      " [0 1 1]  pesos: \n",
      " [ 0.11942599  0.29660296 -0.05280049]  salida esperada \n",
      " 0 salida obtenida: \n",
      " 1\n",
      "-0.7558270953921513\n",
      "entrada \n",
      " [1 0 1]  pesos: \n",
      " [-0.78787512  0.35121027  0.03204803]  salida esperada \n",
      " 0 salida obtenida: \n",
      " 0\n",
      "0.25830134269030003\n",
      "entrada \n",
      " [1 1 1]  pesos: \n",
      " [ 0.9934607  -0.34604426 -0.38911511]  salida esperada \n",
      " 1 salida obtenida: \n",
      " 1\n",
      "-------iteracion 0\n",
      "-0.976940153837992\n",
      "entrada \n",
      " [0 0 1]  pesos: \n",
      " [-0.90011029  0.62532225 -0.97694015]  salida esperada \n",
      " 0 salida obtenida: \n",
      " 0\n",
      "-0.7319191375945724\n",
      "entrada \n",
      " [0 1 1]  pesos: \n",
      " [-0.0069821  -0.32744823 -0.40447091]  salida esperada \n",
      " 0 salida obtenida: \n",
      " 0\n",
      "-0.21369615832082434\n",
      "entrada \n",
      " [1 0 1]  pesos: \n",
      " [-0.60239203 -0.51267653  0.38869587]  salida esperada \n",
      " 0 salida obtenida: \n",
      " 0\n",
      "0.9756067120252712\n",
      "entrada \n",
      " [1 1 1]  pesos: \n",
      " [ 0.9436368  -0.31753899  0.34950891]  salida esperada \n",
      " 1 salida obtenida: \n",
      " 1\n"
     ]
    }
   ],
   "source": [
    "if __name__ == '__main__':\n",
    "    entradas = [\n",
    "        [0,0,1],\n",
    "        [0,1,1],\n",
    "        [1,0,1],\n",
    "        [1,1,1]        \n",
    "    ]\n",
    "    salidas = [0,0,0,1]\n",
    "    perceptron = Perceptron(entradas, salidas)\n",
    "    perceptron.optimizar_pesos()"
   ]
  },
  {
   "cell_type": "code",
   "execution_count": null,
   "metadata": {},
   "outputs": [],
   "source": []
  }
 ],
 "metadata": {
  "kernelspec": {
   "display_name": "Python 3",
   "language": "python",
   "name": "python3"
  },
  "language_info": {
   "codemirror_mode": {
    "name": "ipython",
    "version": 3
   },
   "file_extension": ".py",
   "mimetype": "text/x-python",
   "name": "python",
   "nbconvert_exporter": "python",
   "pygments_lexer": "ipython3",
   "version": "3.8.5"
  }
 },
 "nbformat": 4,
 "nbformat_minor": 4
}
