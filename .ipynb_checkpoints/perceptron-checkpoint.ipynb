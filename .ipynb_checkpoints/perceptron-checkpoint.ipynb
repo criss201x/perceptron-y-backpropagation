{
 "cells": [
  {
   "cell_type": "code",
   "execution_count": null,
   "metadata": {},
   "outputs": [],
   "source": [
    "import numpy as np\n",
    "\n",
    "class perceptron:\n",
    "    def __init__(self, entradas, salidas ):\n",
    "        self.entradas_rna = np.array(entradas)\n",
    "        self.salida_rna = np.array(salidas)\n",
    "        \n",
    "    def optimizar_pesos(self):\n",
    "        epocas, num_entradas = 0, 0 \n",
    "        while num_entradas < 4:\n",
    "            print('-------iteracion {}'.format(epocas))\n",
    "            pesos = np.array(np.random.uniform(-1,1, self.entradas_rna.shape))\n",
    "            for entrada_red, peso, salida_red in zip(self.entradas_rna, pesos, self.salidas_rna):\n",
    "                salida_generada = entrada_red@peso\n",
    "                print(salida_generada)\n",
    "                salida_generada = 0 if salida_generada < 0 else 1\n",
    "                if salida_generada == salida_red:\n",
    "                    num_entradas +=1\n",
    "                else:\n",
    "                    num_entradas=0\n",
    "                    \n",
    "                print('entrada', entrada_red, ' pesos: ', peso, ' salida esperada ',salida_red, 'salida obtenida: ', salida_generada)\n",
    "        \n",
    "        epocas +=1\n",
    "    return true "
   ]
  }
 ],
 "metadata": {
  "kernelspec": {
   "display_name": "Python 3",
   "language": "python",
   "name": "python3"
  },
  "language_info": {
   "codemirror_mode": {
    "name": "ipython",
    "version": 3
   },
   "file_extension": ".py",
   "mimetype": "text/x-python",
   "name": "python",
   "nbconvert_exporter": "python",
   "pygments_lexer": "ipython3",
   "version": "3.8.5"
  }
 },
 "nbformat": 4,
 "nbformat_minor": 4
}
