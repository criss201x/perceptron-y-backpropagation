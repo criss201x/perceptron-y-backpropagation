{
 "cells": [
  {
   "cell_type": "code",
   "execution_count": null,
   "id": "gCTgmddRdu3w",
   "metadata": {
    "colab": {
     "base_uri": "https://localhost:8080/"
    },
    "id": "gCTgmddRdu3w",
    "outputId": "23adc6e7-f3b4-4732-fe07-a5ba163d696c"
   },
   "outputs": [],
   "source": []
  },
  {
   "cell_type": "code",
   "execution_count": 1,
   "id": "efa3d871-bf02-491c-9dd0-56f6ffb438c6",
   "metadata": {
    "id": "efa3d871-bf02-491c-9dd0-56f6ffb438c6"
   },
   "outputs": [],
   "source": [
    "import numpy as np\n",
    "import matplotlib.pyplot as plt\n",
    "import pandas as pd"
   ]
  },
  {
   "cell_type": "code",
   "execution_count": 2,
   "id": "e053c175-3094-40e6-9de5-f60e155715d1",
   "metadata": {
    "id": "e053c175-3094-40e6-9de5-f60e155715d1"
   },
   "outputs": [],
   "source": [
    "#df = pd.read_csv(\"/content/drive/MyDrive/Colab Notebooks/data_mlp.csv\")\n",
    "df = pd.read_csv(\"data_mlp.csv\")"
   ]
  },
  {
   "cell_type": "code",
   "execution_count": 3,
   "id": "bbd7aa83-1604-4674-b4b1-24360855e784",
   "metadata": {
    "colab": {
     "base_uri": "https://localhost:8080/"
    },
    "id": "bbd7aa83-1604-4674-b4b1-24360855e784",
    "outputId": "38d5ccd7-9e52-4007-f443-57053ee421ca"
   },
   "outputs": [
    {
     "name": "stdout",
     "output_type": "stream",
     "text": [
      "<class 'pandas.core.frame.DataFrame'>\n",
      "RangeIndex: 200 entries, 0 to 199\n",
      "Data columns (total 5 columns):\n",
      " #   Column  Non-Null Count  Dtype  \n",
      "---  ------  --------------  -----  \n",
      " 0   Sample  200 non-null    int64  \n",
      " 1   x1      200 non-null    float64\n",
      " 2   x2      200 non-null    float64\n",
      " 3   x3      200 non-null    float64\n",
      " 4   d       200 non-null    float64\n",
      "dtypes: float64(4), int64(1)\n",
      "memory usage: 7.9 KB\n"
     ]
    }
   ],
   "source": [
    "df.info()"
   ]
  },
  {
   "cell_type": "code",
   "execution_count": 4,
   "id": "28bd478d-2774-40a3-b5d5-8ed9415138c8",
   "metadata": {
    "colab": {
     "base_uri": "https://localhost:8080/",
     "height": 300
    },
    "id": "28bd478d-2774-40a3-b5d5-8ed9415138c8",
    "outputId": "e0bb276d-6004-46e2-f2a6-d74e9a28ec39"
   },
   "outputs": [
    {
     "data": {
      "text/html": [
       "<div>\n",
       "<style scoped>\n",
       "    .dataframe tbody tr th:only-of-type {\n",
       "        vertical-align: middle;\n",
       "    }\n",
       "\n",
       "    .dataframe tbody tr th {\n",
       "        vertical-align: top;\n",
       "    }\n",
       "\n",
       "    .dataframe thead th {\n",
       "        text-align: right;\n",
       "    }\n",
       "</style>\n",
       "<table border=\"1\" class=\"dataframe\">\n",
       "  <thead>\n",
       "    <tr style=\"text-align: right;\">\n",
       "      <th></th>\n",
       "      <th>Sample</th>\n",
       "      <th>x1</th>\n",
       "      <th>x2</th>\n",
       "      <th>x3</th>\n",
       "      <th>d</th>\n",
       "    </tr>\n",
       "  </thead>\n",
       "  <tbody>\n",
       "    <tr>\n",
       "      <th>count</th>\n",
       "      <td>200.000000</td>\n",
       "      <td>200.000000</td>\n",
       "      <td>200.000000</td>\n",
       "      <td>200.000000</td>\n",
       "      <td>200.000000</td>\n",
       "    </tr>\n",
       "    <tr>\n",
       "      <th>mean</th>\n",
       "      <td>100.500000</td>\n",
       "      <td>0.500101</td>\n",
       "      <td>0.491556</td>\n",
       "      <td>0.482272</td>\n",
       "      <td>0.624440</td>\n",
       "    </tr>\n",
       "    <tr>\n",
       "      <th>std</th>\n",
       "      <td>57.879185</td>\n",
       "      <td>0.306622</td>\n",
       "      <td>0.303002</td>\n",
       "      <td>0.284523</td>\n",
       "      <td>0.180872</td>\n",
       "    </tr>\n",
       "    <tr>\n",
       "      <th>min</th>\n",
       "      <td>1.000000</td>\n",
       "      <td>0.000000</td>\n",
       "      <td>0.000000</td>\n",
       "      <td>0.000000</td>\n",
       "      <td>0.085100</td>\n",
       "    </tr>\n",
       "    <tr>\n",
       "      <th>25%</th>\n",
       "      <td>50.750000</td>\n",
       "      <td>0.240325</td>\n",
       "      <td>0.209325</td>\n",
       "      <td>0.252475</td>\n",
       "      <td>0.492900</td>\n",
       "    </tr>\n",
       "    <tr>\n",
       "      <th>50%</th>\n",
       "      <td>100.500000</td>\n",
       "      <td>0.472850</td>\n",
       "      <td>0.532300</td>\n",
       "      <td>0.462600</td>\n",
       "      <td>0.627250</td>\n",
       "    </tr>\n",
       "    <tr>\n",
       "      <th>75%</th>\n",
       "      <td>150.250000</td>\n",
       "      <td>0.786375</td>\n",
       "      <td>0.757075</td>\n",
       "      <td>0.697900</td>\n",
       "      <td>0.771275</td>\n",
       "    </tr>\n",
       "    <tr>\n",
       "      <th>max</th>\n",
       "      <td>200.000000</td>\n",
       "      <td>1.000000</td>\n",
       "      <td>1.000000</td>\n",
       "      <td>1.000000</td>\n",
       "      <td>0.990400</td>\n",
       "    </tr>\n",
       "  </tbody>\n",
       "</table>\n",
       "</div>"
      ],
      "text/plain": [
       "           Sample          x1          x2          x3           d\n",
       "count  200.000000  200.000000  200.000000  200.000000  200.000000\n",
       "mean   100.500000    0.500101    0.491556    0.482272    0.624440\n",
       "std     57.879185    0.306622    0.303002    0.284523    0.180872\n",
       "min      1.000000    0.000000    0.000000    0.000000    0.085100\n",
       "25%     50.750000    0.240325    0.209325    0.252475    0.492900\n",
       "50%    100.500000    0.472850    0.532300    0.462600    0.627250\n",
       "75%    150.250000    0.786375    0.757075    0.697900    0.771275\n",
       "max    200.000000    1.000000    1.000000    1.000000    0.990400"
      ]
     },
     "execution_count": 4,
     "metadata": {},
     "output_type": "execute_result"
    }
   ],
   "source": [
    "df.describe()"
   ]
  },
  {
   "cell_type": "code",
   "execution_count": 5,
   "id": "e51350e7-e720-46c6-bf25-6940c9ae6c66",
   "metadata": {
    "id": "e51350e7-e720-46c6-bf25-6940c9ae6c66"
   },
   "outputs": [],
   "source": [
    "X = df[['x1','x2','x3']].to_numpy().astype(float)\n",
    "y = df[['d']].to_numpy().astype(float)      # shape (N,1)"
   ]
  },
  {
   "cell_type": "code",
   "execution_count": 6,
   "id": "b3676532-da58-4124-b4b1-242641ffccf1",
   "metadata": {
    "id": "b3676532-da58-4124-b4b1-242641ffccf1"
   },
   "outputs": [],
   "source": [
    "# split 80/20\n",
    "rng = np.random.default_rng(42)#  utilizando una permutación aleatoria para asegurar una división aleatoria y reproducible (gracias a la semilla seed=42)\n",
    "idx = rng.permutation(len(X)); n_tr = int(0.8*len(X))\n",
    "tr, va = idx[:n_tr], idx[n_tr:]\n",
    "Xtr, Xva = X[tr], X[va]; ytr, yva = y[tr], y[va]"
   ]
  },
  {
   "cell_type": "code",
   "execution_count": 7,
   "id": "4e92a15a-7871-4990-ad59-510590207211",
   "metadata": {
    "id": "4e92a15a-7871-4990-ad59-510590207211"
   },
   "outputs": [],
   "source": [
    "# escalar X con estadísticas del train\n",
    "# dividir train/val como antes...\n",
    "# centra los datos de entrenamiento y validación restando la media del conjunto de entrenamiento. Esto es una práctica común para normalizar los datos antes de alimentar una red neuronal.\n",
    "muX = Xtr.mean(axis=0)\n",
    "Xtr_c = Xtr - muX\n",
    "Xva_c = Xva - muX"
   ]
  },
  {
   "cell_type": "code",
   "execution_count": 8,
   "id": "54cfa319-ee5c-4b85-ab41-6b46b6ebcdc2",
   "metadata": {
    "id": "54cfa319-ee5c-4b85-ab41-6b46b6ebcdc2"
   },
   "outputs": [],
   "source": [
    "# -------- utilidades --------\n",
    "def relu(z): return np.maximum(0,z)\n",
    "def relu_d(z): return (z>0).astype(z.dtype)\n",
    "def mse(yhat,y): return np.mean((yhat-y)**2)\n",
    "def mae(yhat,y): return np.mean(np.abs(yhat-y))"
   ]
  },
  {
   "cell_type": "code",
   "execution_count": 9,
   "id": "c01a9218-19c1-4a63-90bf-fa622ebdce8e",
   "metadata": {
    "id": "c01a9218-19c1-4a63-90bf-fa622ebdce8e"
   },
   "outputs": [],
   "source": [
    "# -------- inicialización He --------\n",
    "#d_in, d_h, d_out = 3, 16, 1\n",
    "#W1 = rng.normal(0, np.sqrt(2/d_in), (d_in,d_h)); b1 = np.zeros(d_h)\n",
    "#W2 = rng.normal(0, np.sqrt(2/d_h), (d_h,d_out)); b2 = np.zeros(d_out)\n",
    "#Inicialización\n",
    "#se encarga de la inicialización de los pesos (W) y sesgos (b) para la red neuronal.\n",
    "#Utiliza la inicialización de He, que es adecuada para capas con función de activación ReLU.\n",
    "#Aquí se definen las dimensiones de las capas de entrada (d_in), las capas ocultas (d_h1, d_h2) y la capa de salida (d_out)\n",
    "d_in, d_h1, d_h2, d_out = 3, 32, 16, 1\n",
    "W1 = rng.normal(0, np.sqrt(2/d_in),  (d_in,d_h1));  b1 = np.zeros(d_h1)\n",
    "W2 = rng.normal(0, np.sqrt(2/d_h1), (d_h1,d_h2));  b2 = np.zeros(d_h2)\n",
    "W3 = rng.normal(0, np.sqrt(2/d_h2), (d_h2,d_out)); b3 = np.zeros(d_out)"
   ]
  },
  {
   "cell_type": "code",
   "execution_count": 10,
   "id": "dbb52351-8250-4c27-98f2-23149a5d9bf0",
   "metadata": {
    "id": "dbb52351-8250-4c27-98f2-23149a5d9bf0"
   },
   "outputs": [],
   "source": [
    "# -------- entrenamiento --------\n",
    "# Esta función implementa el proceso de entrenamiento de la red neuronal multicapa. Incluye:\n",
    "def train_mlp(Xtr_c, ytr, Xva_c, yva, *,\n",
    "              d_h1=32, d_h2=16, lr=3e-4, l2=1e-5,\n",
    "              epochs=2000, batch=32, seed=42):\n",
    "    rng = np.random.default_rng(seed)\n",
    "\n",
    "    # init He (ReLU)\n",
    "    d_in, d_out = Xtr_c.shape[1], 1\n",
    "    W1 = rng.normal(0, np.sqrt(2/d_in),  (d_in, d_h1)); b1 = np.zeros(d_h1)\n",
    "    W2 = rng.normal(0, np.sqrt(2/d_h1), (d_h1, d_h2)); b2 = np.zeros(d_h2)\n",
    "    W3 = rng.normal(0, np.sqrt(2/d_h2), (d_h2, d_out)); b3 = np.zeros(d_out)\n",
    "\n",
    "    N = len(Xtr_c)\n",
    "    def relu(z): return np.maximum(0, z)\n",
    "    def mse(yh,y): return np.mean((yh-y)**2)\n",
    "\n",
    "    for ep in range(epochs):\n",
    "        # mini-batch\n",
    "        for s in range(0, N, batch):\n",
    "            xb, yb = Xtr_c[s:s+batch], ytr[s:s+batch]\n",
    "\n",
    "            z1 = xb @ W1 + b1; h1 = relu(z1)\n",
    "            z2 = h1 @ W2 + b2; h2 = relu(z2)\n",
    "            yhat = h2 @ W3 + b3\n",
    "\n",
    "            dY  = (yhat - yb)/len(xb)\n",
    "            gW3 = h2.T @ dY + (2*l2/N)*W3; gb3 = dY.sum(0)\n",
    "\n",
    "            dh2 = dY @ W3.T\n",
    "            dz2 = dh2 * (z2 > 0)\n",
    "            gW2 = h1.T @ dz2 + (2*l2/N)*W2; gb2 = dz2.sum(0)\n",
    "\n",
    "            dh1 = dz2 @ W2.T\n",
    "            dz1 = dh1 * (z1 > 0)\n",
    "            gW1 = xb.T @ dz1 + (2*l2/N)*W1; gb1 = dz1.sum(0)\n",
    "\n",
    "            W3 -= lr*gW3; b3 -= lr*gb3\n",
    "            W2 -= lr*gW2; b2 -= lr*gb2\n",
    "            W1 -= lr*gW1; b1 -= lr*gb1\n",
    "\n",
    "        # simple LR decay opcional\n",
    "        if (ep+1) % 500 == 0:\n",
    "            lr *= 0.5\n",
    "\n",
    "    # métrica final\n",
    "    def predict(Xc):#  para realizar predicciones y calcula el error cuadrático medio (MSE) en el conjunto de validación.\n",
    "        return relu(relu(Xc@W1+b1)@W2+b2)@W3+b3\n",
    "\n",
    "    yva_hat = predict(Xva_c)\n",
    "    return mse(yva_hat, yva)"
   ]
  },
  {
   "cell_type": "code",
   "execution_count": 11,
   "id": "e2f4adf5-e358-4e01-9f1c-365a8c05e983",
   "metadata": {
    "colab": {
     "base_uri": "https://localhost:8080/"
    },
    "id": "e2f4adf5-e358-4e01-9f1c-365a8c05e983",
    "outputId": "cf34f2f9-84b5-4617-d6f0-2c9b8c83c36d"
   },
   "outputs": [
    {
     "name": "stdout",
     "output_type": "stream",
     "text": [
      "lr=1e-04 -> MSE_va=0.127343\n",
      "lr=3e-04 -> MSE_va=0.035686\n",
      "lr=5e-04 -> MSE_va=0.019162\n",
      "lr=1e-03 -> MSE_va=0.006552\n"
     ]
    }
   ],
   "source": [
    "# -------- predicción --------\n",
    "# para probar diferentes tasas de aprendizaje (lr) definidas en grid_lr. Entrena el modelo con cada tasa de aprendizaje y\n",
    "# muestra el MSE en el conjunto de validación para cada una. Esto ayuda a encontrar una tasa de aprendizaje adecuada para el entrenamiento.\n",
    "grid_lr = [1e-4, 3e-4, 5e-4, 1e-3]\n",
    "for lr in grid_lr:\n",
    "    m = train_mlp(Xtr_c, ytr, Xva_c, yva, lr=lr, l2=1e-5, d_h1=32, d_h2=16, epochs=2000)\n",
    "    print(f\"lr={lr:.0e} -> MSE_va={m:.6f}\")"
   ]
  },
  {
   "cell_type": "code",
   "execution_count": 12,
   "id": "3151ba70-b588-4151-ac6b-9af6a392e465",
   "metadata": {
    "colab": {
     "base_uri": "https://localhost:8080/"
    },
    "id": "3151ba70-b588-4151-ac6b-9af6a392e465",
    "outputId": "0f945b0f-2822-4f06-b6be-9d72f81e9392"
   },
   "outputs": [
    {
     "name": "stdout",
     "output_type": "stream",
     "text": [
      "l2=0e+00 -> MSE_va=0.035686\n",
      "l2=1e-06 -> MSE_va=0.035686\n",
      "l2=1e-05 -> MSE_va=0.035686\n",
      "l2=1e-04 -> MSE_va=0.035686\n"
     ]
    }
   ],
   "source": [
    "'''\n",
    " realiza una búsqueda similar, pero esta vez varía el parámetro de regularización L2 (l2) utilizando los valores definidos en grid_l2.\n",
    " Entrena el modelo con cada valor de l2 (manteniendo el mejor lr encontrado anteriormente) y muestra el MSE en el conjunto de validación.\n",
    " Esto ayuda a determinar si la regularización L2 mejora el rendimiento del modelo y cuál es un buen valor para ella.\n",
    "'''\n",
    "grid_l2 = [0.0, 1e-6, 1e-5, 1e-4]\n",
    "for l2 in grid_l2:\n",
    "    m = train_mlp(Xtr_c, ytr, Xva_c, yva, lr=3e-4, l2=l2, d_h1=32, d_h2=16, epochs=2000)\n",
    "    print(f\"l2={l2:.0e} -> MSE_va={m:.6f}\")"
   ]
  },
  {
   "cell_type": "code",
   "execution_count": 13,
   "id": "8b8870ae-ae82-4ac1-904d-ad6c07a8f5e1",
   "metadata": {
    "colab": {
     "base_uri": "https://localhost:8080/"
    },
    "id": "8b8870ae-ae82-4ac1-904d-ad6c07a8f5e1",
    "outputId": "14d4783f-1ddf-4f69-a645-3d96efb54ff7"
   },
   "outputs": [
    {
     "name": "stdout",
     "output_type": "stream",
     "text": [
      "lr=1e-04 -> MSE_va=0.127343\n",
      "lr=2e-04 -> MSE_va=0.054101\n",
      "lr=3e-04 -> MSE_va=0.035686\n",
      "lr=5e-04 -> MSE_va=0.019162\n",
      "lr=7e-04 -> MSE_va=0.011428\n",
      "lr=1e-03 -> MSE_va=0.006552\n",
      "Top-2: [(0.001, np.float64(0.006551554451019512)), (0.0007, np.float64(0.011427968066771623))]\n"
     ]
    }
   ],
   "source": [
    "grid_lr = [1e-4, 2e-4, 3e-4, 5e-4, 7e-4, 1e-3]\n",
    "res = []\n",
    "for lr in grid_lr:\n",
    "    m = train_mlp(Xtr_c, ytr, Xva_c, yva, lr=lr, l2=1e-5, d_h1=32, d_h2=16, epochs=2000, seed=42)\n",
    "    res.append((lr, m))\n",
    "    print(f\"lr={lr:.0e} -> MSE_va={m:.6f}\")\n",
    "\n",
    "res_sorted = sorted(res, key=lambda t: t[1])\n",
    "print(\"Top-2:\", res_sorted[:2])"
   ]
  },
  {
   "cell_type": "code",
   "execution_count": 14,
   "id": "b1c032dc-4622-45a0-8953-bf7082616717",
   "metadata": {
    "colab": {
     "base_uri": "https://localhost:8080/"
    },
    "id": "b1c032dc-4622-45a0-8953-bf7082616717",
    "outputId": "a1eefb3f-497b-4efa-9da7-c43d8fafebb9"
   },
   "outputs": [
    {
     "name": "stdout",
     "output_type": "stream",
     "text": [
      "l2=0e+00 -> MSE_va=0.006552\n",
      "l2=1e-06 -> MSE_va=0.006552\n",
      "l2=1e-05 -> MSE_va=0.006552\n",
      "l2=5e-05 -> MSE_va=0.006552\n",
      "l2=1e-04 -> MSE_va=0.006552\n"
     ]
    }
   ],
   "source": [
    "grid_l2 = [0.0, 1e-6, 1e-5, 5e-5, 1e-4]\n",
    "for l2 in grid_l2:\n",
    "    m = train_mlp(Xtr_c, ytr, Xva_c, yva,\n",
    "                  lr=1e-3, l2=l2, d_h1=32, d_h2=16,\n",
    "                  epochs=2000, seed=42)\n",
    "    print(f\"l2={l2:.0e} -> MSE_va={m:.6f}\")"
   ]
  },
  {
   "cell_type": "code",
   "execution_count": 15,
   "id": "792d75ae-100d-4a9f-b955-0990367e9889",
   "metadata": {
    "colab": {
     "base_uri": "https://localhost:8080/"
    },
    "id": "792d75ae-100d-4a9f-b955-0990367e9889",
    "outputId": "0abfcad0-ae9e-45b4-d4e8-9b8540b61456"
   },
   "outputs": [
    {
     "name": "stdout",
     "output_type": "stream",
     "text": [
      "d_h1=8, d_h2=4 -> MSE_va=0.009964\n",
      "d_h1=16, d_h2=8 -> MSE_va=0.008415\n",
      "d_h1=32, d_h2=16 -> MSE_va=0.006552\n",
      "d_h1=64, d_h2=32 -> MSE_va=0.011649\n"
     ]
    }
   ],
   "source": [
    "# experimenta con diferentes tamaños para las capas ocultas (d_h1 y d_h2) para ver cómo afectan el rendimiento del modelo.\n",
    "for h in [8, 16, 32, 64]:\n",
    "    m = train_mlp(Xtr_c, ytr, Xva_c, yva,\n",
    "                  lr=1e-3, l2=0, d_h1=h, d_h2=h//2,\n",
    "                  epochs=2000, seed=42)\n",
    "    print(f\"d_h1={h}, d_h2={h//2} -> MSE_va={m:.6f}\")"
   ]
  },
  {
   "cell_type": "code",
   "execution_count": 16,
   "id": "yUiktAD9inSO",
   "metadata": {
    "id": "yUiktAD9inSO"
   },
   "outputs": [],
   "source": [
    "# Nueva función predict\n",
    "# define una nueva función predict que utiliza los pesos y sesgos ya entrenados para realizar predicciones en nuevos datos de entrada.\n",
    "def predict(Xnew):\n",
    "    return relu(relu(Xnew@W1+b1)@W2+b2)@W3+b3"
   ]
  },
  {
   "cell_type": "code",
   "execution_count": 17,
   "id": "4bc1e2e1-0c74-4ec3-96e2-d6a25dd998bf",
   "metadata": {
    "colab": {
     "base_uri": "https://localhost:8080/",
     "height": 1000
    },
    "id": "4bc1e2e1-0c74-4ec3-96e2-d6a25dd998bf",
    "outputId": "588a63b9-4668-4bad-92e9-59d54994fdb5"
   },
   "outputs": [
    {
     "name": "stdout",
     "output_type": "stream",
     "text": [
      "MAE_tr: 0.3332419017479641 MAE_va: 0.27741459709501787\n"
     ]
    },
    {
     "data": {
      "image/png": "[encoded data removed]",
      "text/plain": [
       "<Figure size 640x480 with 1 Axes>"
      ]
     },
     "metadata": {},
     "output_type": "display_data"
    },
    {
     "data": {
      "image/png": "[encoded data removed]",
      "text/plain": [
       "<Figure size 640x480 with 1 Axes>"
      ]
     },
     "metadata": {},
     "output_type": "display_data"
    },
    {
     "data": {
      "image/png": "[encoded data removed]",
      "text/plain": [
       "<Figure size 640x480 with 1 Axes>"
      ]
     },
     "metadata": {},
     "output_type": "display_data"
    }
   ],
   "source": [
    "#  Forward final\n",
    "'''\n",
    "utiliza la función predict para obtener las predicciones en los conjuntos de entrenamiento y validación.\n",
    "Luego, calcula y muestra el Error Absoluto Medio (MAE) para ambos conjuntos.\n",
    "Finalmente, genera tres gráficos para visualizar el rendimiento del modelo:\n",
    "'''\n",
    "ytr_hat = predict(Xtr).reshape(-1)\n",
    "yva_hat = predict(Xva).reshape(-1)\n",
    "ytr_1d = ytr.reshape(-1)\n",
    "yva_1d = yva.reshape(-1)\n",
    "\n",
    "print(\"MAE_tr:\", mae(ytr_hat, ytr_1d), \"MAE_va:\", mae(yva_hat, yva_1d))\n",
    "\n",
    "# 1) y vs y_hat\n",
    "plt.scatter(yva_1d, yva_hat, s=25)\n",
    "plt.xlabel(\"y real\"); plt.ylabel(\"y predicha\")\n",
    "plt.title(\"Predicción vs Real (Validación)\")\n",
    "plt.plot([0,1],[0,1],'r')\n",
    "plt.show()\n",
    "\n",
    "# 2) residuos\n",
    "res = yva_1d - yva_hat\n",
    "plt.scatter(yva_hat, res, s=25)\n",
    "plt.xlabel(\"y_pred\"); plt.ylabel(\"residuo\")\n",
    "plt.title(\"Residuos vs y_pred\")\n",
    "plt.axhline(0, color='r'); plt.show()\n",
    "\n",
    "# 3) histograma\n",
    "plt.hist(res, bins=20); plt.title(\"Histograma de residuos\"); plt.show()\n"
   ]
  },
  {
   "cell_type": "code",
   "execution_count": 18,
   "id": "a6888604-7891-4820-b5ff-ed9b667644a6",
   "metadata": {
    "colab": {
     "base_uri": "https://localhost:8080/",
     "height": 467
    },
    "id": "a6888604-7891-4820-b5ff-ed9b667644a6",
    "outputId": "c02cb4de-2a98-4a71-c807-d19b4144ebab"
   },
   "outputs": [
    {
     "name": "stdout",
     "output_type": "stream",
     "text": [
      "MAE_va: 0.548040945995855\n",
      "R2_va: -8.563350735071074\n"
     ]
    },
    {
     "data": {
      "image/png": "[encoded data removed]",
      "text/plain": [
       "<Figure size 640x480 with 1 Axes>"
      ]
     },
     "metadata": {},
     "output_type": "display_data"
    }
   ],
   "source": [
    "# métricas\n",
    "'''\n",
    "calcula y muestra métricas adicionales para evaluar el rendimiento del modelo en el conjunto de validación,\n",
    "incluyendo el Error Absoluto Medio (MAE) y el coeficiente de determinación R2.\n",
    "También genera un gráfico de dispersión de los residuos vs. los valores predichos en el conjunto de validación.\n",
    "'''\n",
    "\n",
    "from sklearn.metrics import r2_score\n",
    "yva_hat = predict(Xva_c)\n",
    "print(\"MAE_va:\", np.mean(np.abs(yva_hat - yva)))\n",
    "print(\"R2_va:\", r2_score(yva, yva_hat))\n",
    "\n",
    "# residuos\n",
    "res = (yva - yva_hat).reshape(-1)\n",
    "plt.scatter(yva_hat.reshape(-1), res, s=25); plt.axhline(0, color='r'); plt.show()"
   ]
  },
  {
   "cell_type": "code",
   "execution_count": 19,
   "id": "360bc776-c751-4e29-b5fe-9b5202075cff",
   "metadata": {
    "colab": {
     "base_uri": "https://localhost:8080/"
    },
    "id": "360bc776-c751-4e29-b5fe-9b5202075cff",
    "outputId": "9f0d7cfb-abdf-490c-e7fc-6c8bc9a33c75"
   },
   "outputs": [
    {
     "name": "stdout",
     "output_type": "stream",
     "text": [
      "Regresión Lineal:\n",
      " MSE_tr: 0.0012989739087463903\n",
      " MSE_va: 0.001560291634440074\n",
      " MAE_va: 0.033436441182880486\n",
      " R2_va: 0.9560638146815473\n"
     ]
    }
   ],
   "source": [
    "from sklearn.linear_model import LinearRegression\n",
    "from sklearn.metrics import mean_squared_error, mean_absolute_error, r2_score\n",
    "'''\n",
    "entrena un modelo de regresión lineal utilizando los mismos datos centrados que se usaron para entrenar la red neuronal.\n",
    "Esto se hace para comparar el rendimiento de la red neuronal con un modelo lineal más simple.\n",
    "Luego, calcula y muestra las métricas de evaluación (MSE, MAE, R2) para el modelo de regresión lineal en los conjuntos de entrenamiento y validación.\n",
    "'''\n",
    "\n",
    "# Entrenar modelo lineal con los mismos datos centrados\n",
    "lin = LinearRegression()\n",
    "lin.fit(Xtr_c, ytr)\n",
    "\n",
    "# Predicción y métricas\n",
    "yva_hat_lin = lin.predict(Xva_c)\n",
    "ytr_hat_lin = lin.predict(Xtr_c)\n",
    "\n",
    "print(\"Regresión Lineal:\")\n",
    "print(\" MSE_tr:\", mean_squared_error(ytr, ytr_hat_lin))\n",
    "print(\" MSE_va:\", mean_squared_error(yva, yva_hat_lin))\n",
    "print(\" MAE_va:\", mean_absolute_error(yva, yva_hat_lin))\n",
    "print(\" R2_va:\", r2_score(yva, yva_hat_lin))"
   ]
  },
  {
   "cell_type": "code",
   "execution_count": 20,
   "id": "6ec52cff-8b4b-4d14-b96a-a6e830fd3d5e",
   "metadata": {
    "colab": {
     "base_uri": "https://localhost:8080/"
    },
    "id": "6ec52cff-8b4b-4d14-b96a-a6e830fd3d5e",
    "outputId": "97cf970b-374c-4024-e492-496d44fca6a3"
   },
   "outputs": [
    {
     "name": "stdout",
     "output_type": "stream",
     "text": [
      "Coeficientes: [[0.35086875 0.35268554 0.34587054]]\n",
      "Intercepto: [0.62211937]\n"
     ]
    }
   ],
   "source": [
    "'''\n",
    " muestra los coeficientes y el intercepto del modelo de regresión lineal entrenado en la celda anterior.\n",
    " Esto permite ver la relación lineal que el modelo ha encontrado entre las características y la variable objetivo.\n",
    "'''\n",
    "print(\"Coeficientes:\", lin.coef_)\n",
    "print(\"Intercepto:\", lin.intercept_)"
   ]
  },
  {
   "cell_type": "code",
   "execution_count": 21,
   "id": "775ffb12-216d-4190-9844-a8c440f85d0e",
   "metadata": {
    "id": "775ffb12-216d-4190-9844-a8c440f85d0e"
   },
   "outputs": [],
   "source": [
    "'''\n",
    "define una nueva función llamada train_mlp_track. Esta función es similar a train_mlp,\n",
    "pero con la diferencia de que registra las pérdidas (MSE) en los conjuntos de entrenamiento y validación cada 50 épocas.\n",
    "Esto es útil para visualizar las curvas de aprendizaje.\n",
    "'''\n",
    "def train_mlp_track(Xtr_c, ytr, Xva_c, yva, *,\n",
    "                    d_h1=32, d_h2=16, lr=1e-3, l2=0,\n",
    "                    epochs=2000, batch=32, seed=42):\n",
    "    rng = np.random.default_rng(seed)\n",
    "    d_in, d_out = Xtr_c.shape[1], 1\n",
    "    W1 = rng.normal(0, np.sqrt(2/d_in),  (d_in,d_h1)); b1 = np.zeros(d_h1)\n",
    "    W2 = rng.normal(0, np.sqrt(2/d_h1), (d_h1,d_h2));  b2 = np.zeros(d_h2)\n",
    "    W3 = rng.normal(0, np.sqrt(2/d_h2), (d_h2,d_out)); b3 = np.zeros(d_out)\n",
    "\n",
    "    def relu(z): return np.maximum(0,z)\n",
    "    def mse(yh,y): return np.mean((yh-y)**2)\n",
    "    N = len(Xtr_c)\n",
    "\n",
    "    hist_tr, hist_va = [], []\n",
    "\n",
    "    for ep in range(epochs):\n",
    "        for s in range(0, N, batch):\n",
    "            xb, yb = Xtr_c[s:s+batch], ytr[s:s+batch]\n",
    "\n",
    "            z1 = xb @ W1 + b1; h1 = relu(z1)\n",
    "            z2 = h1 @ W2 + b2; h2 = relu(z2)\n",
    "            yhat = h2 @ W3 + b3\n",
    "\n",
    "            dY  = (yhat - yb)/len(xb)\n",
    "            gW3 = h2.T @ dY + (2*l2/N)*W3; gb3 = dY.sum(0)\n",
    "            dh2 = dY @ W3.T; dz2 = dh2 * (z2>0)\n",
    "            gW2 = h1.T @ dz2 + (2*l2/N)*W2; gb2 = dz2.sum(0)\n",
    "            dh1 = dz2 @ W2.T; dz1 = dh1 * (z1>0)\n",
    "            gW1 = xb.T @ dz1 + (2*l2/N)*W1; gb1 = dz1.sum(0)\n",
    "\n",
    "            W3 -= lr*gW3; b3 -= lr*gb3\n",
    "            W2 -= lr*gW2; b2 -= lr*gb2\n",
    "            W1 -= lr*gW1; b1 -= lr*gb1\n",
    "\n",
    "        # registrar pérdida cada 50 épocas\n",
    "        if (ep+1) % 50 == 0:\n",
    "            def fwd(Xc): return relu(relu(Xc@W1+b1)@W2+b2)@W3+b3\n",
    "            hist_tr.append(mse(fwd(Xtr_c), ytr))\n",
    "            hist_va.append(mse(fwd(Xva_c), yva))\n",
    "\n",
    "    return hist_tr, hist_va\n"
   ]
  },
  {
   "cell_type": "code",
   "execution_count": 22,
   "id": "c46fbefc-efac-4fd5-a777-6d56205fe6e3",
   "metadata": {
    "colab": {
     "base_uri": "https://localhost:8080/",
     "height": 472
    },
    "id": "c46fbefc-efac-4fd5-a777-6d56205fe6e3",
    "outputId": "a2411757-b3b0-41a5-d317-e7749e64337b"
   },
   "outputs": [
    {
     "data": {
      "image/png": "[encoded data removed]",
      "text/plain": [
       "<Figure size 640x480 with 1 Axes>"
      ]
     },
     "metadata": {},
     "output_type": "display_data"
    }
   ],
   "source": [
    "#para graficar las curvas de aprendizaje (pérdida vs. épocas) para los conjuntos de entrenamiento y validación.\n",
    "#Estas curvas ayudan a diagnosticar si el modelo está sobreajustando o subajustando.\n",
    "hist_tr, hist_va = train_mlp_track(Xtr_c, ytr, Xva_c, yva)\n",
    "\n",
    "plt.plot(range(50,2001,50), hist_tr, label=\"train\")\n",
    "plt.plot(range(50,2001,50), hist_va, label=\"val\")\n",
    "plt.xlabel(\"épocas\"); plt.ylabel(\"MSE\")\n",
    "plt.title(\"Curvas de aprendizaje\")\n",
    "plt.legend(); plt.show()"
   ]
  },
  {
   "cell_type": "code",
   "execution_count": 23,
   "id": "491bc275-362f-41ec-8779-f9f8906d0278",
   "metadata": {
    "id": "491bc275-362f-41ec-8779-f9f8906d0278"
   },
   "outputs": [],
   "source": [
    "# Cambiar tasa de aprendizaje\n",
    "#hist_tr, hist_va = train_mlp_track(Xtr_c,ytr,Xva_c,yva, lr=7e-4)\n",
    "\n",
    "# Cambiar capacidad\n",
    "#hist_tr, hist_va = train_mlp_track(Xtr_c,ytr,Xva_c,yva, d_h1=48, d_h2=24)\n",
    "\n",
    "# Regularización y batch\n",
    "#hist_tr, hist_va = train_mlp_track(Xtr_c,ytr,Xva_c,yva, l2=1e-5, batch=64)\n",
    "\n",
    "# Más épocas y semilla fija para reproducibilidad\n",
    "#hist_tr, hist_va = train_mlp_track(Xtr_c,ytr,Xva_c,yva, epochs=3000, seed=7)"
   ]
  },
  {
   "cell_type": "code",
   "execution_count": null,
   "id": "f6e440b8-5714-40fb-8270-6e2099fe3ee5",
   "metadata": {
    "id": "f6e440b8-5714-40fb-8270-6e2099fe3ee5"
   },
   "outputs": [],
   "source": []
  }
 ],
 "metadata": {
  "colab": {
   "provenance": []
  },
  "kernelspec": {
   "display_name": "Python 3 (ipykernel)",
   "language": "python",
   "name": "python3"
  },
  "language_info": {
   "codemirror_mode": {
    "name": "ipython",
    "version": 3
   },
   "file_extension": ".py",
   "mimetype": "text/x-python",
   "name": "python",
   "nbconvert_exporter": "python",
   "pygments_lexer": "ipython3",
   "version": "3.12.2"
  }
 },
 "nbformat": 4,
 "nbformat_minor": 5
}
