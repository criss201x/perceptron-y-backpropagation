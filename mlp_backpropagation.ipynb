{
 "cells": [
  {
   "cell_type": "code",
   "execution_count": null,
   "id": "gCTgmddRdu3w",
   "metadata": {
    "colab": {
     "base_uri": "https://localhost:8080/"
    },
    "id": "gCTgmddRdu3w",
    "outputId": "560d6b22-3614-4cdf-f405-341cbde0455f"
   },
   "outputs": [],
   "source": []
  },
  {
   "cell_type": "code",
   "execution_count": 3,
   "id": "efa3d871-bf02-491c-9dd0-56f6ffb438c6",
   "metadata": {
    "id": "efa3d871-bf02-491c-9dd0-56f6ffb438c6"
   },
   "outputs": [],
   "source": [
    "import numpy as np\n",
    "import matplotlib.pyplot as plt\n",
    "import pandas as pd"
   ]
  },
  {
   "cell_type": "code",
   "execution_count": 5,
   "id": "e053c175-3094-40e6-9de5-f60e155715d1",
   "metadata": {
    "id": "e053c175-3094-40e6-9de5-f60e155715d1"
   },
   "outputs": [],
   "source": [
    "df = pd.read_csv(\"data_mlp.csv\")"
   ]
  },
  {
   "cell_type": "code",
   "execution_count": 6,
   "id": "bbd7aa83-1604-4674-b4b1-24360855e784",
   "metadata": {
    "colab": {
     "base_uri": "https://localhost:8080/"
    },
    "id": "bbd7aa83-1604-4674-b4b1-24360855e784",
    "outputId": "7dd3d75b-efb3-4677-824d-6c851c5c7574"
   },
   "outputs": [
    {
     "name": "stdout",
     "output_type": "stream",
     "text": [
      "<class 'pandas.core.frame.DataFrame'>\n",
      "RangeIndex: 200 entries, 0 to 199\n",
      "Data columns (total 5 columns):\n",
      " #   Column  Non-Null Count  Dtype  \n",
      "---  ------  --------------  -----  \n",
      " 0   Sample  200 non-null    int64  \n",
      " 1   x1      200 non-null    float64\n",
      " 2   x2      200 non-null    float64\n",
      " 3   x3      200 non-null    float64\n",
      " 4   d       200 non-null    float64\n",
      "dtypes: float64(4), int64(1)\n",
      "memory usage: 7.9 KB\n"
     ]
    }
   ],
   "source": [
    "df.info()"
   ]
  },
  {
   "cell_type": "code",
   "execution_count": 7,
   "id": "28bd478d-2774-40a3-b5d5-8ed9415138c8",
   "metadata": {
    "colab": {
     "base_uri": "https://localhost:8080/",
     "height": 300
    },
    "id": "28bd478d-2774-40a3-b5d5-8ed9415138c8",
    "outputId": "e4aafe02-0f52-4a89-e642-a3328c9f70b2"
   },
   "outputs": [
    {
     "data": {
      "text/html": [
       "<div>\n",
       "<style scoped>\n",
       "    .dataframe tbody tr th:only-of-type {\n",
       "        vertical-align: middle;\n",
       "    }\n",
       "\n",
       "    .dataframe tbody tr th {\n",
       "        vertical-align: top;\n",
       "    }\n",
       "\n",
       "    .dataframe thead th {\n",
       "        text-align: right;\n",
       "    }\n",
       "</style>\n",
       "<table border=\"1\" class=\"dataframe\">\n",
       "  <thead>\n",
       "    <tr style=\"text-align: right;\">\n",
       "      <th></th>\n",
       "      <th>Sample</th>\n",
       "      <th>x1</th>\n",
       "      <th>x2</th>\n",
       "      <th>x3</th>\n",
       "      <th>d</th>\n",
       "    </tr>\n",
       "  </thead>\n",
       "  <tbody>\n",
       "    <tr>\n",
       "      <th>count</th>\n",
       "      <td>200.000000</td>\n",
       "      <td>200.000000</td>\n",
       "      <td>200.000000</td>\n",
       "      <td>200.000000</td>\n",
       "      <td>200.000000</td>\n",
       "    </tr>\n",
       "    <tr>\n",
       "      <th>mean</th>\n",
       "      <td>100.500000</td>\n",
       "      <td>0.500101</td>\n",
       "      <td>0.491556</td>\n",
       "      <td>0.482272</td>\n",
       "      <td>0.624440</td>\n",
       "    </tr>\n",
       "    <tr>\n",
       "      <th>std</th>\n",
       "      <td>57.879185</td>\n",
       "      <td>0.306622</td>\n",
       "      <td>0.303002</td>\n",
       "      <td>0.284523</td>\n",
       "      <td>0.180872</td>\n",
       "    </tr>\n",
       "    <tr>\n",
       "      <th>min</th>\n",
       "      <td>1.000000</td>\n",
       "      <td>0.000000</td>\n",
       "      <td>0.000000</td>\n",
       "      <td>0.000000</td>\n",
       "      <td>0.085100</td>\n",
       "    </tr>\n",
       "    <tr>\n",
       "      <th>25%</th>\n",
       "      <td>50.750000</td>\n",
       "      <td>0.240325</td>\n",
       "      <td>0.209325</td>\n",
       "      <td>0.252475</td>\n",
       "      <td>0.492900</td>\n",
       "    </tr>\n",
       "    <tr>\n",
       "      <th>50%</th>\n",
       "      <td>100.500000</td>\n",
       "      <td>0.472850</td>\n",
       "      <td>0.532300</td>\n",
       "      <td>0.462600</td>\n",
       "      <td>0.627250</td>\n",
       "    </tr>\n",
       "    <tr>\n",
       "      <th>75%</th>\n",
       "      <td>150.250000</td>\n",
       "      <td>0.786375</td>\n",
       "      <td>0.757075</td>\n",
       "      <td>0.697900</td>\n",
       "      <td>0.771275</td>\n",
       "    </tr>\n",
       "    <tr>\n",
       "      <th>max</th>\n",
       "      <td>200.000000</td>\n",
       "      <td>1.000000</td>\n",
       "      <td>1.000000</td>\n",
       "      <td>1.000000</td>\n",
       "      <td>0.990400</td>\n",
       "    </tr>\n",
       "  </tbody>\n",
       "</table>\n",
       "</div>"
      ],
      "text/plain": [
       "           Sample          x1          x2          x3           d\n",
       "count  200.000000  200.000000  200.000000  200.000000  200.000000\n",
       "mean   100.500000    0.500101    0.491556    0.482272    0.624440\n",
       "std     57.879185    0.306622    0.303002    0.284523    0.180872\n",
       "min      1.000000    0.000000    0.000000    0.000000    0.085100\n",
       "25%     50.750000    0.240325    0.209325    0.252475    0.492900\n",
       "50%    100.500000    0.472850    0.532300    0.462600    0.627250\n",
       "75%    150.250000    0.786375    0.757075    0.697900    0.771275\n",
       "max    200.000000    1.000000    1.000000    1.000000    0.990400"
      ]
     },
     "execution_count": 7,
     "metadata": {},
     "output_type": "execute_result"
    }
   ],
   "source": [
    "df.describe()"
   ]
  },
  {
   "cell_type": "code",
   "execution_count": 8,
   "id": "e51350e7-e720-46c6-bf25-6940c9ae6c66",
   "metadata": {
    "id": "e51350e7-e720-46c6-bf25-6940c9ae6c66"
   },
   "outputs": [],
   "source": [
    "X = df[['x1','x2','x3']].to_numpy().astype(float)\n",
    "y = df[['d']].to_numpy().astype(float)      # shape (N,1)"
   ]
  },
  {
   "cell_type": "code",
   "execution_count": 9,
   "id": "b3676532-da58-4124-b4b1-242641ffccf1",
   "metadata": {
    "id": "b3676532-da58-4124-b4b1-242641ffccf1"
   },
   "outputs": [],
   "source": [
    "# split 80/20\n",
    "rng = np.random.default_rng(42)#  utilizando una permutación aleatoria para asegurar una división aleatoria y reproducible (gracias a la semilla seed=42)\n",
    "idx = rng.permutation(len(X)); n_tr = int(0.8*len(X))\n",
    "tr, va = idx[:n_tr], idx[n_tr:]\n",
    "Xtr, Xva = X[tr], X[va]; ytr, yva = y[tr], y[va]"
   ]
  },
  {
   "cell_type": "code",
   "execution_count": 10,
   "id": "4e92a15a-7871-4990-ad59-510590207211",
   "metadata": {
    "id": "4e92a15a-7871-4990-ad59-510590207211"
   },
   "outputs": [],
   "source": [
    "# escalar X con estadísticas del train\n",
    "# dividir train/val como antes...\n",
    "# centra los datos de entrenamiento y validación restando la media del conjunto de entrenamiento. Esto es una práctica común para normalizar los datos antes de alimentar una red neuronal.\n",
    "muX = Xtr.mean(axis=0)\n",
    "Xtr_c = Xtr - muX\n",
    "Xva_c = Xva - muX"
   ]
  },
  {
   "cell_type": "code",
   "execution_count": 11,
   "id": "54cfa319-ee5c-4b85-ab41-6b46b6ebcdc2",
   "metadata": {
    "id": "54cfa319-ee5c-4b85-ab41-6b46b6ebcdc2"
   },
   "outputs": [],
   "source": [
    "# -------- utilidades --------\n",
    "def relu(z): return np.maximum(0,z)\n",
    "def relu_d(z): return (z>0).astype(z.dtype)\n",
    "def mse(yhat,y): return np.mean((yhat-y)**2)\n",
    "def mae(yhat,y): return np.mean(np.abs(yhat-y))"
   ]
  },
  {
   "cell_type": "code",
   "execution_count": 12,
   "id": "c01a9218-19c1-4a63-90bf-fa622ebdce8e",
   "metadata": {
    "id": "c01a9218-19c1-4a63-90bf-fa622ebdce8e"
   },
   "outputs": [],
   "source": [
    "# -------- inicialización He --------\n",
    "#d_in, d_h, d_out = 3, 16, 1\n",
    "#W1 = rng.normal(0, np.sqrt(2/d_in), (d_in,d_h)); b1 = np.zeros(d_h)\n",
    "#W2 = rng.normal(0, np.sqrt(2/d_h), (d_h,d_out)); b2 = np.zeros(d_out)\n",
    "#Inicialización\n",
    "#se encarga de la inicialización de los pesos (W) y sesgos (b) para la red neuronal.\n",
    "#Utiliza la inicialización de He, que es adecuada para capas con función de activación ReLU.\n",
    "#Aquí se definen las dimensiones de las capas de entrada (d_in), las capas ocultas (d_h1, d_h2) y la capa de salida (d_out)\n",
    "d_in, d_h1, d_h2, d_out = 3, 32, 16, 1\n",
    "W1 = rng.normal(0, np.sqrt(2/d_in),  (d_in,d_h1));  b1 = np.zeros(d_h1)\n",
    "W2 = rng.normal(0, np.sqrt(2/d_h1), (d_h1,d_h2));  b2 = np.zeros(d_h2)\n",
    "W3 = rng.normal(0, np.sqrt(2/d_h2), (d_h2,d_out)); b3 = np.zeros(d_out)"
   ]
  },
  {
   "cell_type": "code",
   "execution_count": 13,
   "id": "dbb52351-8250-4c27-98f2-23149a5d9bf0",
   "metadata": {
    "id": "dbb52351-8250-4c27-98f2-23149a5d9bf0"
   },
   "outputs": [],
   "source": [
    "# -------- entrenamiento --------\n",
    "# Esta función implementa el proceso de entrenamiento de la red neuronal multicapa. Incluye:\n",
    "def train_mlp(Xtr_c, ytr, Xva_c, yva, *,\n",
    "              d_h1=32, d_h2=16, lr=3e-4, l2=1e-5,\n",
    "              epochs=2000, batch=32, seed=42):\n",
    "    rng = np.random.default_rng(seed)\n",
    "\n",
    "    # init He (ReLU)\n",
    "    d_in, d_out = Xtr_c.shape[1], 1\n",
    "    W1 = rng.normal(0, np.sqrt(2/d_in),  (d_in, d_h1)); b1 = np.zeros(d_h1)\n",
    "    W2 = rng.normal(0, np.sqrt(2/d_h1), (d_h1, d_h2)); b2 = np.zeros(d_h2)\n",
    "    W3 = rng.normal(0, np.sqrt(2/d_h2), (d_h2, d_out)); b3 = np.zeros(d_out)\n",
    "\n",
    "    N = len(Xtr_c)\n",
    "    def relu(z): return np.maximum(0, z)\n",
    "    def mse(yh,y): return np.mean((yh-y)**2)\n",
    "\n",
    "    for ep in range(epochs):\n",
    "        # mini-batch\n",
    "        for s in range(0, N, batch):\n",
    "            xb, yb = Xtr_c[s:s+batch], ytr[s:s+batch]\n",
    "\n",
    "            z1 = xb @ W1 + b1; h1 = relu(z1)\n",
    "            z2 = h1 @ W2 + b2; h2 = relu(z2)\n",
    "            yhat = h2 @ W3 + b3\n",
    "\n",
    "            dY  = (yhat - yb)/len(xb)\n",
    "            gW3 = h2.T @ dY + (2*l2/N)*W3; gb3 = dY.sum(0)\n",
    "\n",
    "            dh2 = dY @ W3.T\n",
    "            dz2 = dh2 * (z2 > 0)\n",
    "            gW2 = h1.T @ dz2 + (2*l2/N)*W2; gb2 = dz2.sum(0)\n",
    "\n",
    "            dh1 = dz2 @ W2.T\n",
    "            dz1 = dh1 * (z1 > 0)\n",
    "            gW1 = xb.T @ dz1 + (2*l2/N)*W1; gb1 = dz1.sum(0)\n",
    "\n",
    "            W3 -= lr*gW3; b3 -= lr*gb3\n",
    "            W2 -= lr*gW2; b2 -= lr*gb2\n",
    "            W1 -= lr*gW1; b1 -= lr*gb1\n",
    "\n",
    "        # simple LR decay opcional\n",
    "        if (ep+1) % 500 == 0:\n",
    "            lr *= 0.5\n",
    "\n",
    "    # métrica final\n",
    "    def predict(Xc):#  para realizar predicciones y calcula el error cuadrático medio (MSE) en el conjunto de validación.\n",
    "        return relu(relu(Xc@W1+b1)@W2+b2)@W3+b3\n",
    "\n",
    "    yva_hat = predict(Xva_c)\n",
    "    return mse(yva_hat, yva)"
   ]
  },
  {
   "cell_type": "code",
   "execution_count": 15,
   "id": "e2f4adf5-e358-4e01-9f1c-365a8c05e983",
   "metadata": {
    "colab": {
     "base_uri": "https://localhost:8080/"
    },
    "id": "e2f4adf5-e358-4e01-9f1c-365a8c05e983",
    "outputId": "530b986e-4397-4df3-d251-33cdd3afc62d"
   },
   "outputs": [
    {
     "name": "stdout",
     "output_type": "stream",
     "text": [
      "lr=1e-04 -> MSE_va=0.127343\n",
      "lr=3e-04 -> MSE_va=0.035686\n",
      "lr=5e-04 -> MSE_va=0.019162\n",
      "lr=1e-03 -> MSE_va=0.006552\n"
     ]
    }
   ],
   "source": [
    "# -------- predicción --------\n",
    "# para probar diferentes tasas de aprendizaje (lr) definidas en grid_lr. Entrena el modelo con cada tasa de aprendizaje y\n",
    "# muestra el MSE en el conjunto de validación para cada una. Esto ayuda a encontrar una tasa de aprendizaje adecuada para el entrenamiento.\n",
    "grid_lr = [1e-4, 3e-4, 5e-4, 1e-3]\n",
    "for lr in grid_lr:#con parametros ideales\n",
    "    m = train_mlp(Xtr_c, ytr, Xva_c, yva, lr=lr, l2=1e-5, d_h1=32, d_h2=16, epochs=2000)\n",
    "    print(f\"lr={lr:.0e} -> MSE_va={m:.6f}\")"
   ]
  },
  {
   "cell_type": "code",
   "execution_count": 16,
   "id": "3151ba70-b588-4151-ac6b-9af6a392e465",
   "metadata": {
    "colab": {
     "base_uri": "https://localhost:8080/"
    },
    "id": "3151ba70-b588-4151-ac6b-9af6a392e465",
    "outputId": "46b8e495-65ba-4474-c5b7-41613aa6a196"
   },
   "outputs": [
    {
     "name": "stdout",
     "output_type": "stream",
     "text": [
      "l2=0e+00 -> MSE_va=0.035686\n",
      "l2=1e-06 -> MSE_va=0.035686\n",
      "l2=1e-05 -> MSE_va=0.035686\n",
      "l2=1e-04 -> MSE_va=0.035686\n"
     ]
    }
   ],
   "source": [
    "'''\n",
    " realiza una búsqueda similar, pero esta vez varía el parámetro de regularización L2 (l2) utilizando los valores definidos en grid_l2.\n",
    " Entrena el modelo con cada valor de l2 (manteniendo el mejor lr encontrado anteriormente) y muestra el MSE en el conjunto de validación.\n",
    " Esto ayuda a determinar si la regularización L2 mejora el rendimiento del modelo y cuál es un buen valor para ella.\n",
    "'''\n",
    "grid_l2 = [0.0, 1e-6, 1e-5, 1e-4]\n",
    "for l2 in grid_l2:\n",
    "    m = train_mlp(Xtr_c, ytr, Xva_c, yva, lr=3e-4, l2=l2, d_h1=32, d_h2=16, epochs=2000)\n",
    "    print(f\"l2={l2:.0e} -> MSE_va={m:.6f}\")"
   ]
  },
  {
   "cell_type": "code",
   "execution_count": 17,
   "id": "8b8870ae-ae82-4ac1-904d-ad6c07a8f5e1",
   "metadata": {
    "colab": {
     "base_uri": "https://localhost:8080/"
    },
    "id": "8b8870ae-ae82-4ac1-904d-ad6c07a8f5e1",
    "outputId": "bd7766a4-6339-442c-ec09-d9c2fba24b77"
   },
   "outputs": [
    {
     "name": "stdout",
     "output_type": "stream",
     "text": [
      "lr=1e-04 -> MSE_va=0.127343\n",
      "lr=2e-04 -> MSE_va=0.054101\n",
      "lr=3e-04 -> MSE_va=0.035686\n",
      "lr=5e-04 -> MSE_va=0.019162\n",
      "lr=7e-04 -> MSE_va=0.011428\n",
      "lr=1e-03 -> MSE_va=0.006552\n",
      "Top-2: [(0.001, np.float64(0.006551554451019512)), (0.0007, np.float64(0.011427968066771623))]\n"
     ]
    }
   ],
   "source": [
    "grid_lr = [1e-4, 2e-4, 3e-4, 5e-4, 7e-4, 1e-3]\n",
    "res = []\n",
    "for lr in grid_lr:\n",
    "    m = train_mlp(Xtr_c, ytr, Xva_c, yva, lr=lr, l2=1e-5, d_h1=32, d_h2=16, epochs=2000, seed=42)\n",
    "    res.append((lr, m))\n",
    "    print(f\"lr={lr:.0e} -> MSE_va={m:.6f}\")\n",
    "\n",
    "res_sorted = sorted(res, key=lambda t: t[1])\n",
    "print(\"Top-2:\", res_sorted[:2])"
   ]
  },
  {
   "cell_type": "code",
   "execution_count": 18,
   "id": "b1c032dc-4622-45a0-8953-bf7082616717",
   "metadata": {
    "colab": {
     "base_uri": "https://localhost:8080/"
    },
    "id": "b1c032dc-4622-45a0-8953-bf7082616717",
    "outputId": "436cded9-2edd-4356-86b9-2ea77e660913"
   },
   "outputs": [
    {
     "name": "stdout",
     "output_type": "stream",
     "text": [
      "l2=0e+00 -> MSE_va=0.006552\n",
      "l2=1e-06 -> MSE_va=0.006552\n",
      "l2=1e-05 -> MSE_va=0.006552\n",
      "l2=5e-05 -> MSE_va=0.006552\n",
      "l2=1e-04 -> MSE_va=0.006552\n"
     ]
    }
   ],
   "source": [
    "grid_l2 = [0.0, 1e-6, 1e-5, 5e-5, 1e-4]\n",
    "for l2 in grid_l2:\n",
    "    m = train_mlp(Xtr_c, ytr, Xva_c, yva,\n",
    "                  lr=1e-3, l2=l2, d_h1=32, d_h2=16,\n",
    "                  epochs=2000, seed=42)\n",
    "    print(f\"l2={l2:.0e} -> MSE_va={m:.6f}\")"
   ]
  },
  {
   "cell_type": "code",
   "execution_count": 19,
   "id": "792d75ae-100d-4a9f-b955-0990367e9889",
   "metadata": {
    "colab": {
     "base_uri": "https://localhost:8080/"
    },
    "id": "792d75ae-100d-4a9f-b955-0990367e9889",
    "outputId": "0ffc94ee-da7c-4101-f7f8-e56f7c7b6ace"
   },
   "outputs": [
    {
     "name": "stdout",
     "output_type": "stream",
     "text": [
      "d_h1=8, d_h2=4 -> MSE_va=0.009964\n",
      "d_h1=16, d_h2=8 -> MSE_va=0.008415\n",
      "d_h1=32, d_h2=16 -> MSE_va=0.006552\n",
      "d_h1=64, d_h2=32 -> MSE_va=0.011649\n"
     ]
    }
   ],
   "source": [
    "# experimenta con diferentes tamaños para las capas ocultas (d_h1 y d_h2) para ver cómo afectan el rendimiento del modelo.\n",
    "for h in [8, 16, 32, 64]:\n",
    "    m = train_mlp(Xtr_c, ytr, Xva_c, yva,\n",
    "                  lr=1e-3, l2=0, d_h1=h, d_h2=h//2,\n",
    "                  epochs=2000, seed=42)\n",
    "    print(f\"d_h1={h}, d_h2={h//2} -> MSE_va={m:.6f}\")"
   ]
  },
  {
   "cell_type": "code",
   "execution_count": 20,
   "id": "yUiktAD9inSO",
   "metadata": {
    "id": "yUiktAD9inSO"
   },
   "outputs": [],
   "source": [
    "# Nueva función predict\n",
    "# define una nueva función predict que utiliza los pesos y sesgos ya entrenados para realizar predicciones en nuevos datos de entrada.\n",
    "def predict(Xnew):\n",
    "    return relu(relu(Xnew@W1+b1)@W2+b2)@W3+b3"
   ]
  },
  {
   "cell_type": "code",
   "execution_count": 21,
   "id": "4bc1e2e1-0c74-4ec3-96e2-d6a25dd998bf",
   "metadata": {
    "colab": {
     "base_uri": "https://localhost:8080/",
     "height": 1000
    },
    "id": "4bc1e2e1-0c74-4ec3-96e2-d6a25dd998bf",
    "outputId": "88e56772-5f42-4063-d72f-0d88ffa22576"
   },
   "outputs": [
    {
     "name": "stdout",
     "output_type": "stream",
     "text": [
      "MAE_tr: 0.3332419017479641 MAE_va: 0.27741459709501787\n"
     ]
    },
    {
     "data": {
      "image/png": "[encoded data removed]",
      "text/plain": [
       "<Figure size 640x480 with 1 Axes>"
      ]
     },
     "metadata": {},
     "output_type": "display_data"
    },
    {
     "data": {
      "image/png": "[encoded data removed]",
      "text/plain": [
       "<Figure size 640x480 with 1 Axes>"
      ]
     },
     "metadata": {},
     "output_type": "display_data"
    },
    {
     "data": {
      "image/png": "[encoded data removed]",
      "text/plain": [
       "<Figure size 640x480 with 1 Axes>"
      ]
     },
     "metadata": {},
     "output_type": "display_data"
    }
   ],
   "source": [
    "#  Forward final\n",
    "'''\n",
    "utiliza la función predict para obtener las predicciones en los conjuntos de entrenamiento y validación.\n",
    "Luego, calcula y muestra el Error Absoluto Medio (MAE) para ambos conjuntos.\n",
    "Finalmente, genera tres gráficos para visualizar el rendimiento del modelo:\n",
    "'''\n",
    "ytr_hat = predict(Xtr).reshape(-1)\n",
    "yva_hat = predict(Xva).reshape(-1)\n",
    "ytr_1d = ytr.reshape(-1)\n",
    "yva_1d = yva.reshape(-1)\n",
    "\n",
    "print(\"MAE_tr:\", mae(ytr_hat, ytr_1d), \"MAE_va:\", mae(yva_hat, yva_1d))\n",
    "\n",
    "# 1) y vs y_hat\n",
    "plt.scatter(yva_1d, yva_hat, s=25)\n",
    "plt.xlabel(\"y real\"); plt.ylabel(\"y predicha\")\n",
    "plt.title(\"Predicción vs Real (Validación)\")\n",
    "plt.plot([0,1],[0,1],'r')\n",
    "plt.show()\n",
    "\n",
    "# 2) residuos\n",
    "res = yva_1d - yva_hat\n",
    "plt.scatter(yva_hat, res, s=25)\n",
    "plt.xlabel(\"y_pred\"); plt.ylabel(\"residuo\")\n",
    "plt.title(\"Residuos vs y_pred\")\n",
    "plt.axhline(0, color='r'); plt.show()\n",
    "\n",
    "# 3) histograma\n",
    "plt.hist(res, bins=20); plt.title(\"Histograma de residuos\"); plt.show()\n"
   ]
  },
  {
   "cell_type": "code",
   "execution_count": 22,
   "id": "a6888604-7891-4820-b5ff-ed9b667644a6",
   "metadata": {
    "colab": {
     "base_uri": "https://localhost:8080/",
     "height": 465
    },
    "id": "a6888604-7891-4820-b5ff-ed9b667644a6",
    "outputId": "11a9efd3-ee1f-49ef-e24d-99b47b8407de"
   },
   "outputs": [
    {
     "name": "stdout",
     "output_type": "stream",
     "text": [
      "MAE_va: 0.548040945995855\n",
      "R2_va: -8.563350735071074\n"
     ]
    },
    {
     "data": {
      "image/png": "[encoded data removed]",
      "text/plain": [
       "<Figure size 640x480 with 1 Axes>"
      ]
     },
     "metadata": {},
     "output_type": "display_data"
    }
   ],
   "source": [
    "# métricas\n",
    "'''\n",
    "calcula y muestra métricas adicionales para evaluar el rendimiento del modelo en el conjunto de validación,\n",
    "incluyendo el Error Absoluto Medio (MAE) y el coeficiente de determinación R2.\n",
    "También genera un gráfico de dispersión de los residuos vs. los valores predichos en el conjunto de validación.\n",
    "'''\n",
    "\n",
    "from sklearn.metrics import r2_score\n",
    "yva_hat = predict(Xva_c)\n",
    "print(\"MAE_va:\", np.mean(np.abs(yva_hat - yva)))\n",
    "print(\"R2_va:\", r2_score(yva, yva_hat))\n",
    "\n",
    "# residuos\n",
    "res = (yva - yva_hat).reshape(-1)\n",
    "plt.scatter(yva_hat.reshape(-1), res, s=25); plt.axhline(0, color='r'); plt.show()"
   ]
  },
  {
   "cell_type": "code",
   "execution_count": 23,
   "id": "360bc776-c751-4e29-b5fe-9b5202075cff",
   "metadata": {
    "colab": {
     "base_uri": "https://localhost:8080/"
    },
    "id": "360bc776-c751-4e29-b5fe-9b5202075cff",
    "outputId": "85e62b99-bcf2-4fdf-df39-e1dac39b66dc"
   },
   "outputs": [
    {
     "name": "stdout",
     "output_type": "stream",
     "text": [
      "Regresión Lineal:\n",
      " MSE_tr: 0.0012989739087463903\n",
      " MSE_va: 0.001560291634440074\n",
      " MAE_va: 0.033436441182880486\n",
      " R2_va: 0.9560638146815473\n"
     ]
    }
   ],
   "source": [
    "from sklearn.linear_model import LinearRegression\n",
    "from sklearn.metrics import mean_squared_error, mean_absolute_error, r2_score\n",
    "'''\n",
    "entrena un modelo de regresión lineal utilizando los mismos datos centrados que se usaron para entrenar la red neuronal.\n",
    "Esto se hace para comparar el rendimiento de la red neuronal con un modelo lineal más simple.\n",
    "Luego, calcula y muestra las métricas de evaluación (MSE, MAE, R2) para el modelo de regresión lineal en los conjuntos de entrenamiento y validación.\n",
    "'''\n",
    "\n",
    "# Entrenar modelo lineal con los mismos datos centrados\n",
    "lin = LinearRegression()\n",
    "lin.fit(Xtr_c, ytr)\n",
    "\n",
    "# Predicción y métricas\n",
    "yva_hat_lin = lin.predict(Xva_c)\n",
    "ytr_hat_lin = lin.predict(Xtr_c)\n",
    "\n",
    "print(\"Regresión Lineal:\")\n",
    "print(\" MSE_tr:\", mean_squared_error(ytr, ytr_hat_lin))\n",
    "print(\" MSE_va:\", mean_squared_error(yva, yva_hat_lin))\n",
    "print(\" MAE_va:\", mean_absolute_error(yva, yva_hat_lin))\n",
    "print(\" R2_va:\", r2_score(yva, yva_hat_lin))"
   ]
  },
  {
   "cell_type": "code",
   "execution_count": 24,
   "id": "6ec52cff-8b4b-4d14-b96a-a6e830fd3d5e",
   "metadata": {
    "colab": {
     "base_uri": "https://localhost:8080/"
    },
    "id": "6ec52cff-8b4b-4d14-b96a-a6e830fd3d5e",
    "outputId": "552b132b-8b7d-42df-d400-aadc122b54e5"
   },
   "outputs": [
    {
     "name": "stdout",
     "output_type": "stream",
     "text": [
      "Coeficientes: [[0.35086875 0.35268554 0.34587054]]\n",
      "Intercepto: [0.62211937]\n"
     ]
    }
   ],
   "source": [
    "'''\n",
    " muestra los coeficientes y el intercepto del modelo de regresión lineal entrenado en la celda anterior.\n",
    " Esto permite ver la relación lineal que el modelo ha encontrado entre las características y la variable objetivo.\n",
    "'''\n",
    "print(\"Coeficientes:\", lin.coef_)\n",
    "print(\"Intercepto:\", lin.intercept_)"
   ]
  },
  {
   "cell_type": "code",
   "execution_count": 25,
   "id": "775ffb12-216d-4190-9844-a8c440f85d0e",
   "metadata": {
    "id": "775ffb12-216d-4190-9844-a8c440f85d0e"
   },
   "outputs": [],
   "source": [
    "'''\n",
    "define una nueva función llamada train_mlp_track. Esta función es similar a train_mlp,\n",
    "pero con la diferencia de que registra las pérdidas (MSE) en los conjuntos de entrenamiento y validación cada 50 épocas.\n",
    "Esto es útil para visualizar las curvas de aprendizaje.\n",
    "'''\n",
    "def train_mlp_track(Xtr_c, ytr, Xva_c, yva, *,\n",
    "                    d_h1=32, d_h2=16, lr=1e-3, l2=0,\n",
    "                    epochs=2000, batch=32, seed=42):\n",
    "    rng = np.random.default_rng(seed)\n",
    "    d_in, d_out = Xtr_c.shape[1], 1\n",
    "    W1 = rng.normal(0, np.sqrt(2/d_in),  (d_in,d_h1)); b1 = np.zeros(d_h1)\n",
    "    W2 = rng.normal(0, np.sqrt(2/d_h1), (d_h1,d_h2));  b2 = np.zeros(d_h2)\n",
    "    W3 = rng.normal(0, np.sqrt(2/d_h2), (d_h2,d_out)); b3 = np.zeros(d_out)\n",
    "\n",
    "    def relu(z): return np.maximum(0,z)\n",
    "    def mse(yh,y): return np.mean((yh-y)**2)\n",
    "    N = len(Xtr_c)\n",
    "\n",
    "    hist_tr, hist_va = [], []\n",
    "\n",
    "    for ep in range(epochs):\n",
    "        for s in range(0, N, batch):\n",
    "            xb, yb = Xtr_c[s:s+batch], ytr[s:s+batch]\n",
    "\n",
    "            z1 = xb @ W1 + b1; h1 = relu(z1)\n",
    "            z2 = h1 @ W2 + b2; h2 = relu(z2)\n",
    "            yhat = h2 @ W3 + b3\n",
    "\n",
    "            dY  = (yhat - yb)/len(xb)\n",
    "            gW3 = h2.T @ dY + (2*l2/N)*W3; gb3 = dY.sum(0)\n",
    "            dh2 = dY @ W3.T; dz2 = dh2 * (z2>0)\n",
    "            gW2 = h1.T @ dz2 + (2*l2/N)*W2; gb2 = dz2.sum(0)\n",
    "            dh1 = dz2 @ W2.T; dz1 = dh1 * (z1>0)\n",
    "            gW1 = xb.T @ dz1 + (2*l2/N)*W1; gb1 = dz1.sum(0)\n",
    "\n",
    "            W3 -= lr*gW3; b3 -= lr*gb3\n",
    "            W2 -= lr*gW2; b2 -= lr*gb2\n",
    "            W1 -= lr*gW1; b1 -= lr*gb1\n",
    "\n",
    "        # registrar pérdida cada 50 épocas\n",
    "        if (ep+1) % 50 == 0:\n",
    "            def fwd(Xc): return relu(relu(Xc@W1+b1)@W2+b2)@W3+b3\n",
    "            hist_tr.append(mse(fwd(Xtr_c), ytr))\n",
    "            hist_va.append(mse(fwd(Xva_c), yva))\n",
    "\n",
    "    return hist_tr, hist_va\n"
   ]
  },
  {
   "cell_type": "code",
   "execution_count": 26,
   "id": "c46fbefc-efac-4fd5-a777-6d56205fe6e3",
   "metadata": {
    "colab": {
     "base_uri": "https://localhost:8080/",
     "height": 472
    },
    "id": "c46fbefc-efac-4fd5-a777-6d56205fe6e3",
    "outputId": "a476816e-b72a-4d17-927e-c535e186c1d0"
   },
   "outputs": [
    {
     "data": {
      "image/png": "[encoded data removed]",
      "text/plain": [
       "<Figure size 640x480 with 1 Axes>"
      ]
     },
     "metadata": {},
     "output_type": "display_data"
    }
   ],
   "source": [
    "#para graficar las curvas de aprendizaje (pérdida vs. épocas) para los conjuntos de entrenamiento y validación.\n",
    "#Estas curvas ayudan a diagnosticar si el modelo está sobreajustando o subajustando.\n",
    "hist_tr, hist_va = train_mlp_track(Xtr_c, ytr, Xva_c, yva)\n",
    "\n",
    "plt.plot(range(50,2001,50), hist_tr, label=\"train\")\n",
    "plt.plot(range(50,2001,50), hist_va, label=\"val\")\n",
    "plt.xlabel(\"épocas\"); plt.ylabel(\"MSE\")\n",
    "plt.title(\"Curvas de aprendizaje\")\n",
    "plt.legend(); plt.show()"
   ]
  },
  {
   "cell_type": "code",
   "execution_count": 27,
   "id": "491bc275-362f-41ec-8779-f9f8906d0278",
   "metadata": {
    "id": "491bc275-362f-41ec-8779-f9f8906d0278"
   },
   "outputs": [],
   "source": [
    "# Cambiar tasa de aprendizaje\n",
    "#hist_tr, hist_va = train_mlp_track(Xtr_c,ytr,Xva_c,yva, lr=7e-4)\n",
    "\n",
    "# Cambiar capacidad\n",
    "#hist_tr, hist_va = train_mlp_track(Xtr_c,ytr,Xva_c,yva, d_h1=48, d_h2=24)\n",
    "\n",
    "# Regularización y batch\n",
    "#hist_tr, hist_va = train_mlp_track(Xtr_c,ytr,Xva_c,yva, l2=1e-5, batch=64)\n",
    "\n",
    "# Más épocas y semilla fija para reproducibilidad\n",
    "#hist_tr, hist_va = train_mlp_track(Xtr_c,ytr,Xva_c,yva, epochs=3000, seed=7)"
   ]
  },
  {
   "cell_type": "markdown",
   "id": "cc288eae",
   "metadata": {
    "id": "cc288eae"
   },
   "source": [
    "Modificar la función `train_mlp_track` para incluir la opción de usar la función de activación sigmoide, implementar una condición de parada basada en la precisión y devolver el MSE final y el número total de épocas.\n"
   ]
  },
  {
   "cell_type": "markdown",
   "id": "685e08a6",
   "metadata": {
    "id": "685e08a6"
   },
   "source": [
    "\n",
    "Llamar a la función `train_mlp_track` cinco veces con la función de activación sigmoide, una tasa de aprendizaje η=0.1 y una precisión ε=10⁻⁶.\n"
   ]
  },
  {
   "cell_type": "code",
   "execution_count": 28,
   "id": "cDDLmUmgvVu0",
   "metadata": {
    "id": "cDDLmUmgvVu0"
   },
   "outputs": [],
   "source": [
    "def train_mlp_track(Xtr_c, ytr, Xva_c, yva, *,\n",
    "                    d_h1=32, d_h2=16, lr=1e-3, l2=0,\n",
    "                    epochs=2000, batch=32, seed=42,\n",
    "                    activation='relu', tol=1e-6):\n",
    "\n",
    "    rng = np.random.default_rng(seed)\n",
    "    d_in, d_out = Xtr_c.shape[1], 1\n",
    "    W1 = rng.normal(0, np.sqrt(2/d_in),  (d_in,d_h1)); b1 = np.zeros(d_h1)\n",
    "    W2 = rng.normal(0, np.sqrt(2/d_h1), (d_h1,d_h2));  b2 = np.zeros(d_h2)\n",
    "    W3 = rng.normal(0, np.sqrt(2/d_h2), (d_h2,d_out)); b3 = np.zeros(d_out)\n",
    "\n",
    "    def sigmoid(z): return 1/(1 + np.exp(-z))\n",
    "    def sigmoid_d(z): return sigmoid(z) * (1 - sigmoid(z))\n",
    "    def relu(z): return np.maximum(0,z)\n",
    "    def relu_d(z): return (z>0).astype(z.dtype)\n",
    "    def mse(yh,y): return np.mean((yh-y)**2)\n",
    "    N = len(Xtr_c)\n",
    "\n",
    "    prev_va_mse = float('inf')\n",
    "\n",
    "    for ep in range(epochs):\n",
    "        for s in range(0, N, batch):\n",
    "            xb, yb = Xtr_c[s:s+batch], ytr[s:s+batch]\n",
    "\n",
    "            # Forward pass\n",
    "            z1 = xb @ W1 + b1\n",
    "            h1 = relu(z1) if activation == 'relu' else sigmoid(z1)\n",
    "            z2 = h1 @ W2 + b2\n",
    "            h2 = relu(z2) if activation == 'relu' else sigmoid(z2)\n",
    "            yhat = h2 @ W3 + b3\n",
    "\n",
    "            # Backward pass\n",
    "            dY  = (yhat - yb)/len(xb)\n",
    "            gW3 = h2.T @ dY + (2*l2/N)*W3; gb3 = dY.sum(0)\n",
    "\n",
    "            dh2 = dY @ W3.T\n",
    "            dz2 = dh2 * (relu_d(z2) if activation == 'relu' else sigmoid_d(z2))\n",
    "            gW2 = h1.T @ dz2 + (2*l2/N)*W2; gb2 = dz2.sum(0)\n",
    "\n",
    "            dh1 = dz2 @ W2.T\n",
    "            dz1 = dh1 * (relu_d(z1) if activation == 'relu' else sigmoid_d(z1))\n",
    "            gW1 = xb.T @ dz1 + (2*l2/N)*W1; gb1 = dz1.sum(0)\n",
    "\n",
    "            W3 -= lr*gW3; b3 -= lr*gb3\n",
    "            W2 -= lr*gW2; b2 -= lr*gb2\n",
    "            W1 -= lr*gW1; b1 -= lr*gb1\n",
    "\n",
    "        # Calculate validation MSE and check stopping condition\n",
    "        def fwd(Xc):\n",
    "            h1_fwd = relu(Xc@W1+b1) if activation == 'relu' else sigmoid(Xc@W1+b1)\n",
    "            h2_fwd = relu(h1_fwd@W2+b2) if activation == 'relu' else sigmoid(h1_fwd@W2+b2)\n",
    "            return h2_fwd@W3+b3\n",
    "\n",
    "        va_mse = mse(fwd(Xva_c), yva)\n",
    "\n",
    "        if abs(prev_va_mse - va_mse) < tol:\n",
    "            break\n",
    "        prev_va_mse = va_mse\n",
    "\n",
    "    return va_mse, ep + 1\n",
    "\n",
    "results = []\n",
    "for i in range(5):\n",
    "    va_mse, epochs = train_mlp_track(Xtr_c, ytr, Xva_c, yva,#aqui se ejecuta el punto 1 con los parametros que da el ejercicio\n",
    "                                     activation='sigmoid',\n",
    "                                     lr=0.1,\n",
    "                                     tol=1e-6,\n",
    "                                     seed=42 + i)\n",
    "    results.append({'MSE': va_mse, 'Epochs': epochs})"
   ]
  },
  {
   "cell_type": "markdown",
   "id": "dc38954f",
   "metadata": {
    "id": "dc38954f"
   },
   "source": [
    "\n",
    "Crear un nuevo DataFrame para almacenar los resultados (MSE final y número de épocas) obtenidos de las cinco ejecuciones de `train_mlp_track` y poblarlo con los datos almacenados en la lista `results`.\n"
   ]
  },
  {
   "cell_type": "code",
   "execution_count": 31,
   "id": "a3aa8a47",
   "metadata": {
    "colab": {
     "base_uri": "https://localhost:8080/",
     "height": 206
    },
    "id": "a3aa8a47",
    "outputId": "10f51b2c-55c2-422f-8192-4326ca971ab5"
   },
   "outputs": [
    {
     "data": {
      "text/html": [
       "<div>\n",
       "<style scoped>\n",
       "    .dataframe tbody tr th:only-of-type {\n",
       "        vertical-align: middle;\n",
       "    }\n",
       "\n",
       "    .dataframe tbody tr th {\n",
       "        vertical-align: top;\n",
       "    }\n",
       "\n",
       "    .dataframe thead th {\n",
       "        text-align: right;\n",
       "    }\n",
       "</style>\n",
       "<table border=\"1\" class=\"dataframe\">\n",
       "  <thead>\n",
       "    <tr style=\"text-align: right;\">\n",
       "      <th></th>\n",
       "      <th>MSE</th>\n",
       "      <th>Epochs</th>\n",
       "    </tr>\n",
       "  </thead>\n",
       "  <tbody>\n",
       "    <tr>\n",
       "      <th>0</th>\n",
       "      <td>0.001312</td>\n",
       "      <td>361</td>\n",
       "    </tr>\n",
       "    <tr>\n",
       "      <th>1</th>\n",
       "      <td>0.001336</td>\n",
       "      <td>199</td>\n",
       "    </tr>\n",
       "    <tr>\n",
       "      <th>2</th>\n",
       "      <td>0.001349</td>\n",
       "      <td>329</td>\n",
       "    </tr>\n",
       "    <tr>\n",
       "      <th>3</th>\n",
       "      <td>0.001400</td>\n",
       "      <td>183</td>\n",
       "    </tr>\n",
       "    <tr>\n",
       "      <th>4</th>\n",
       "      <td>0.001226</td>\n",
       "      <td>219</td>\n",
       "    </tr>\n",
       "  </tbody>\n",
       "</table>\n",
       "</div>"
      ],
      "text/plain": [
       "        MSE  Epochs\n",
       "0  0.001312     361\n",
       "1  0.001336     199\n",
       "2  0.001349     329\n",
       "3  0.001400     183\n",
       "4  0.001226     219"
      ]
     },
     "metadata": {},
     "output_type": "display_data"
    }
   ],
   "source": [
    "results_df = pd.DataFrame(results)# para el punto 2\n",
    "display(results_df)#interpretar resultados y explicar para punto 4"
   ]
  },
  {
   "cell_type": "code",
   "execution_count": 32,
   "id": "4ad7782e",
   "metadata": {
    "colab": {
     "base_uri": "https://localhost:8080/",
     "height": 488
    },
    "id": "4ad7782e",
    "outputId": "828d855f-80bb-4895-a83a-40a9a3a18b31"
   },
   "outputs": [
    {
     "data": {
      "image/png": "[encoded data removed]",
      "text/plain": [
       "<Figure size 800x500 with 1 Axes>"
      ]
     },
     "metadata": {},
     "output_type": "display_data"
    }
   ],
   "source": [
    "import matplotlib.pyplot as plt\n",
    "\n",
    "# Extraer los MSE del DataFrame\n",
    "mse_values = results_df['MSE']\n",
    "\n",
    "# Crear un gráfico de barras\n",
    "plt.figure(figsize=(8, 5))\n",
    "plt.bar(range(len(mse_values)), mse_values, color='skyblue')\n",
    "plt.xlabel('Número de Entrenamiento')\n",
    "plt.ylabel('MSE Final de Validación')\n",
    "plt.title('Comparación del MSE Final de Validación en 5 Entrenamientos')\n",
    "plt.xticks(range(len(mse_values)), [f'Entrenamiento {i+1}' for i in range(len(mse_values))])\n",
    "plt.show()"
   ]
  },
  {
   "cell_type": "markdown",
   "id": "a2a00da6",
   "metadata": {
    "id": "a2a00da6"
   },
   "source": [
    "Modifica la función `train_mlp_track` para que devuelva el historial del MSE de entrenamiento y validación en cada época (o cada cierto número de épocas). Luego, llama a esta función 5 veces con los parámetros: función de activación sigmoidea, tasa de aprendizaje η=0.1 y precisión ε=10⁻⁶. Finalmente, crea un único gráfico que muestre las curvas de aprendizaje (MSE vs épocas) para cada una de las 5 ejecuciones, incluyendo etiquetas, título y leyenda."
   ]
  },
  {
   "cell_type": "markdown",
   "id": "761cd953",
   "metadata": {
    "id": "761cd953"
   },
   "source": [
    "\n",
    "Modificar la función `train_mlp_track` para incluir la opción de usar la función de activación sigmoide, implementar una condición de parada basada en la precisión y devolver el MSE final y el número total de épocas.\n"
   ]
  },
  {
   "cell_type": "code",
   "execution_count": 33,
   "id": "5c7a3d93",
   "metadata": {
    "id": "5c7a3d93"
   },
   "outputs": [],
   "source": [
    "def train_mlp_track(Xtr_c, ytr, Xva_c, yva, *,\n",
    "                    d_h1=32, d_h2=16, lr=1e-3, l2=0,\n",
    "                    epochs=2000, batch=32, seed=42,\n",
    "                    activation='relu', tol=1e-6):\n",
    "\n",
    "    rng = np.random.default_rng(seed)\n",
    "    d_in, d_out = Xtr_c.shape[1], 1\n",
    "    W1 = rng.normal(0, np.sqrt(2/d_in),  (d_in,d_h1)); b1 = np.zeros(d_h1)\n",
    "    W2 = rng.normal(0, np.sqrt(2/d_h1), (d_h1,d_h2));  b2 = np.zeros(d_h2)\n",
    "    W3 = rng.normal(0, np.sqrt(2/d_h2), (d_h2,d_out)); b3 = np.zeros(d_out)\n",
    "\n",
    "    def sigmoid(z): return 1/(1 + np.exp(-z))\n",
    "    def sigmoid_d(z): return sigmoid(z) * (1 - sigmoid(z))\n",
    "    def relu(z): return np.maximum(0,z)\n",
    "    def relu_d(z): return (z>0).astype(z.dtype)\n",
    "    def mse(yh,y): return np.mean((yh-y)**2)\n",
    "    N = len(Xtr_c)\n",
    "\n",
    "    prev_va_mse = float('inf')\n",
    "\n",
    "    for ep in range(epochs):\n",
    "        for s in range(0, N, batch):\n",
    "            xb, yb = Xtr_c[s:s+batch], ytr[s:s+batch]\n",
    "\n",
    "            # Forward pass\n",
    "            z1 = xb @ W1 + b1\n",
    "            h1 = relu(z1) if activation == 'relu' else sigmoid(z1)\n",
    "            z2 = h1 @ W2 + b2\n",
    "            h2 = relu(z2) if activation == 'relu' else sigmoid(z2)\n",
    "            yhat = h2 @ W3 + b3\n",
    "\n",
    "            # Backward pass\n",
    "            dY  = (yhat - yb)/len(xb)\n",
    "            gW3 = h2.T @ dY + (2*l2/N)*W3; gb3 = dY.sum(0)\n",
    "\n",
    "            dh2 = dY @ W3.T\n",
    "            dz2 = dh2 * (relu_d(z2) if activation == 'relu' else sigmoid_d(z2))\n",
    "            gW2 = h1.T @ dz2 + (2*l2/N)*W2; gb2 = dz2.sum(0)\n",
    "\n",
    "            dh1 = dz2 @ W2.T\n",
    "            dz1 = dh1 * (relu_d(z1) if activation == 'relu' else sigmoid_d(z1))\n",
    "            gW1 = xb.T @ dz1 + (2*l2/N)*W1; gb1 = dz1.sum(0)\n",
    "\n",
    "            W3 -= lr*gW3; b3 -= lr*gb3\n",
    "            W2 -= lr*gW2; b2 -= lr*gb2\n",
    "            W1 -= lr*gW1; b1 -= lr*gb1\n",
    "\n",
    "        # Calculate validation MSE and check stopping condition\n",
    "        def fwd(Xc):\n",
    "            h1_fwd = relu(Xc@W1+b1) if activation == 'relu' else sigmoid(Xc@W1+b1)\n",
    "            h2_fwd = relu(h1_fwd@W2+b2) if activation == 'relu' else sigmoid(h1_fwd@W2+b2)\n",
    "            return h2_fwd@W3+b3\n",
    "\n",
    "        va_mse = mse(fwd(Xva_c), yva)\n",
    "\n",
    "        if abs(prev_va_mse - va_mse) < tol:\n",
    "            break\n",
    "        prev_va_mse = va_mse\n",
    "\n",
    "    return va_mse, ep + 1"
   ]
  },
  {
   "cell_type": "markdown",
   "id": "251ba3e0",
   "metadata": {
    "id": "251ba3e0"
   },
   "source": [
    "\n",
    "Llamar a la función `train_mlp_track` cinco veces con la función de activación sigmoide, una tasa de aprendizaje η=0.1 y una precisión ε=10⁻⁶.\n"
   ]
  },
  {
   "cell_type": "code",
   "execution_count": 54,
   "id": "f98dd7db",
   "metadata": {
    "id": "f98dd7db"
   },
   "outputs": [],
   "source": [
    "# ...existing code...\n",
    "all_histories = []\n",
    "for i in range(5):\n",
    "    out = train_mlp_track(Xtr_c, ytr, Xva_c, yva,\n",
    "                         activation='sigmoid',\n",
    "                         lr=0.1,\n",
    "                         tol=1e-6,\n",
    "                         seed=42 + i,\n",
    "                         epochs=5000)\n",
    "\n",
    "    # Si la función devuelve (hist_tr, hist_va, ...) (esperado)\n",
    "    if isinstance(out, tuple) and len(out) >= 2 and hasattr(out[0], \"__len__\"):\n",
    "        hist_tr, hist_va = out[0], out[1]\n",
    "    else:\n",
    "        # Firma inesperada: informar y salir para evitar errores posteriores\n",
    "        raise RuntimeError(\"train_mlp_track devolvió una firma inesperada. Asegúrate de ejecutar la definición que devuelve (hist_tr, hist_va, ...).\")\n",
    "\n",
    "    all_histories.append((np.asarray(hist_tr), np.asarray(hist_va)))\n",
    "\n"
   ]
  },
  {
   "cell_type": "markdown",
   "id": "67f362be",
   "metadata": {
    "id": "67f362be"
   },
   "source": [
    "\n",
    "Crear un único gráfico que muestre las curvas de aprendizaje (MSE vs épocas) para cada una de las 5 ejecuciones, incluyendo etiquetas, título y leyenda.\n"
   ]
  },
  {
   "cell_type": "code",
   "execution_count": 55,
   "id": "e2c4035f",
   "metadata": {
    "colab": {
     "base_uri": "https://localhost:8080/",
     "height": 564
    },
    "id": "e2c4035f",
    "outputId": "63d6a274-9587-4c59-e50b-1b14b459853e"
   },
   "outputs": [
    {
     "data": {
      "image/png": "[encoded data removed]",
      "text/plain": [
       "<Figure size 1000x600 with 1 Axes>"
      ]
     },
     "metadata": {},
     "output_type": "display_data"
    }
   ],
   "source": [
    "# Encontrar los índices de los dos entrenamientos con más épocas\n",
    "epoch_counts = [len(hist_tr) for hist_tr, hist_va in all_histories]\n",
    "sorted_indices = sorted(range(len(epoch_counts)), key=lambda k: epoch_counts[k], reverse=True)\n",
    "top_2_indices = sorted_indices[:2]\n",
    "\n",
    "plt.figure(figsize=(10, 6))\n",
    "for i in top_2_indices:#para el punto 3\n",
    "    hist_tr, hist_va = all_histories[i]\n",
    "    epochs = range(len(hist_tr))\n",
    "    plt.plot(epochs, hist_tr, label=f\"Train Run {i+1}\")\n",
    "    plt.plot(epochs, hist_va, label=f\"Validation Run {i+1}\", linestyle='--')\n",
    "\n",
    "plt.xlabel(\"Epochs\")\n",
    "plt.ylabel(\"MSE\")\n",
    "plt.title(\"Learning Curves for Top 2 MLP Training Runs (Sigmoid Activation)\")\n",
    "plt.legend()\n",
    "plt.grid(True)\n",
    "plt.show()"
   ]
  },
  {
   "cell_type": "code",
   "execution_count": 43,
   "id": "_uDuEg440IWM",
   "metadata": {
    "id": "_uDuEg440IWM"
   },
   "outputs": [],
   "source": []
  },
  {
   "cell_type": "code",
   "execution_count": 37,
   "id": "YZVp7Sk_2aFb",
   "metadata": {
    "id": "YZVp7Sk_2aFb"
   },
   "outputs": [],
   "source": [
    "df_val = pd.read_csv(\"validacion.csv\")"
   ]
  },
  {
   "cell_type": "code",
   "execution_count": 38,
   "id": "aa25f17e",
   "metadata": {
    "id": "aa25f17e"
   },
   "outputs": [],
   "source": [
    "X_val = df_val[['x1','x2','x3']].to_numpy().astype(float)\n",
    "y_val = df_val[['d']].to_numpy().astype(float)\n",
    "X_val_c = X_val - muX"
   ]
  },
  {
   "cell_type": "code",
   "execution_count": 39,
   "id": "42c042ef",
   "metadata": {
    "id": "42c042ef"
   },
   "outputs": [],
   "source": [
    "y_val_hat = predict(X_val_c).reshape(-1)# para punto 5"
   ]
  },
  {
   "cell_type": "code",
   "execution_count": 40,
   "id": "64638fdc",
   "metadata": {
    "id": "64638fdc"
   },
   "outputs": [],
   "source": [
    "y_val_1d = y_val.reshape(-1)\n",
    "relative_error = np.abs(y_val_1d - y_val_hat) / y_val_1d\n",
    "mre = np.mean(relative_error)"
   ]
  },
  {
   "cell_type": "code",
   "execution_count": 41,
   "id": "8da0c9be",
   "metadata": {
    "colab": {
     "base_uri": "https://localhost:8080/"
    },
    "id": "8da0c9be",
    "outputId": "792b84f8-d6c6-4ef8-d421-34f628d9f95d"
   },
   "outputs": [
    {
     "name": "stdout",
     "output_type": "stream",
     "text": [
      "Error Relativo Medio (MRE): 0.8660931201438382\n"
     ]
    }
   ],
   "source": [
    "print(\"Error Relativo Medio (MRE):\", mre)# jamas esperen un error cuadratico menor utilizando una funcion de activacion sigmoidea en un problema de regresion, esta funcion esta hecha para problemas de clasificacion binaria"
   ]
  },
  {
   "cell_type": "code",
   "execution_count": 42,
   "id": "08ca37b4",
   "metadata": {
    "colab": {
     "base_uri": "https://localhost:8080/",
     "height": 1000
    },
    "id": "08ca37b4",
    "outputId": "d6b02ffa-8455-4d70-b125-269fccb162ae"
   },
   "outputs": [
    {
     "data": {
      "image/png": "[encoded data removed]",
      "text/plain": [
       "<Figure size 800x600 with 1 Axes>"
      ]
     },
     "metadata": {},
     "output_type": "display_data"
    },
    {
     "data": {
      "image/png": "[encoded data removed]",
      "text/plain": [
       "<Figure size 800x600 with 1 Axes>"
      ]
     },
     "metadata": {},
     "output_type": "display_data"
    },
    {
     "data": {
      "image/png": "[encoded data removed]",
      "text/plain": [
       "<Figure size 800x600 with 1 Axes>"
      ]
     },
     "metadata": {},
     "output_type": "display_data"
    }
   ],
   "source": [
    "import matplotlib.pyplot as plt\n",
    "\n",
    "# Gráfico de dispersión de valores reales vs. predichos en validación\n",
    "plt.figure(figsize=(8, 6))\n",
    "plt.scatter(y_val_1d, y_val_hat, alpha=0.6) # Usamos y_val_1d que ya está aplanado\n",
    "plt.xlabel(\"Valores Reales (y_val)\")\n",
    "plt.ylabel(\"Valores Predichos (y_val_hat)\")\n",
    "plt.title(\"Valores Reales vs. Predicciones en el Conjunto de Validación\")\n",
    "plt.plot([y_val_1d.min(), y_val_1d.max()], [y_val_1d.min(), y_val_1d.max()], 'r--') # Línea y=x de referencia\n",
    "plt.grid(True)\n",
    "plt.show()\n",
    "\n",
    "# Gráfico de dispersión de residuos vs. valores predichos en validación\n",
    "residuos = y_val_1d - y_val_hat\n",
    "plt.figure(figsize=(8, 6))\n",
    "plt.scatter(y_val_hat, residuos, alpha=0.6)\n",
    "plt.xlabel(\"Valores Predichos (y_val_hat)\")\n",
    "plt.ylabel(\"Residuos (Real - Predicho)\")\n",
    "plt.title(\"Residuos vs. Valores Predichos en el Conjunto de Validación\")\n",
    "plt.axhline(0, color='r', linestyle='--') # Línea de referencia en 0\n",
    "plt.grid(True)\n",
    "plt.show()\n",
    "\n",
    "# Histograma de residuos\n",
    "plt.figure(figsize=(8, 6))\n",
    "plt.hist(residuos, bins=20)\n",
    "plt.xlabel(\"Residuos\")\n",
    "plt.ylabel(\"Frecuencia\")\n",
    "plt.title(\"Histograma de Residuos en el Conjunto de Validación\")\n",
    "plt.grid(True)\n",
    "plt.show()"
   ]
  },
  {
   "cell_type": "code",
   "execution_count": null,
   "id": "876d1306",
   "metadata": {
    "id": "876d1306"
   },
   "outputs": [],
   "source": []
  },
  {
   "cell_type": "code",
   "execution_count": 43,
   "id": "dba37833",
   "metadata": {
    "colab": {
     "base_uri": "https://localhost:8080/",
     "height": 206
    },
    "id": "dba37833",
    "outputId": "83ad59cc-9257-4e1a-8b02-aa4fd00925c6"
   },
   "outputs": [
    {
     "data": {
      "text/html": [
       "<div>\n",
       "<style scoped>\n",
       "    .dataframe tbody tr th:only-of-type {\n",
       "        vertical-align: middle;\n",
       "    }\n",
       "\n",
       "    .dataframe tbody tr th {\n",
       "        vertical-align: top;\n",
       "    }\n",
       "\n",
       "    .dataframe thead th {\n",
       "        text-align: right;\n",
       "    }\n",
       "</style>\n",
       "<table border=\"1\" class=\"dataframe\">\n",
       "  <thead>\n",
       "    <tr style=\"text-align: right;\">\n",
       "      <th></th>\n",
       "      <th>Samples</th>\n",
       "      <th>x1</th>\n",
       "      <th>x2</th>\n",
       "      <th>x3</th>\n",
       "      <th>d</th>\n",
       "      <th>d_predicted</th>\n",
       "    </tr>\n",
       "  </thead>\n",
       "  <tbody>\n",
       "    <tr>\n",
       "      <th>0</th>\n",
       "      <td>1</td>\n",
       "      <td>0.0611</td>\n",
       "      <td>0.2860</td>\n",
       "      <td>0.7464</td>\n",
       "      <td>0.4831</td>\n",
       "      <td>0.836898</td>\n",
       "    </tr>\n",
       "    <tr>\n",
       "      <th>1</th>\n",
       "      <td>2</td>\n",
       "      <td>0.5102</td>\n",
       "      <td>0.7464</td>\n",
       "      <td>0.0860</td>\n",
       "      <td>0.5965</td>\n",
       "      <td>0.294137</td>\n",
       "    </tr>\n",
       "    <tr>\n",
       "      <th>2</th>\n",
       "      <td>3</td>\n",
       "      <td>0.0004</td>\n",
       "      <td>0.6916</td>\n",
       "      <td>0.5006</td>\n",
       "      <td>0.5318</td>\n",
       "      <td>-0.098634</td>\n",
       "    </tr>\n",
       "    <tr>\n",
       "      <th>3</th>\n",
       "      <td>4</td>\n",
       "      <td>0.9430</td>\n",
       "      <td>0.4476</td>\n",
       "      <td>0.2648</td>\n",
       "      <td>0.6843</td>\n",
       "      <td>-0.127220</td>\n",
       "    </tr>\n",
       "    <tr>\n",
       "      <th>4</th>\n",
       "      <td>5</td>\n",
       "      <td>0.1399</td>\n",
       "      <td>0.1610</td>\n",
       "      <td>0.2477</td>\n",
       "      <td>0.2872</td>\n",
       "      <td>0.641866</td>\n",
       "    </tr>\n",
       "  </tbody>\n",
       "</table>\n",
       "</div>"
      ],
      "text/plain": [
       "   Samples      x1      x2      x3       d  d_predicted\n",
       "0        1  0.0611  0.2860  0.7464  0.4831     0.836898\n",
       "1        2  0.5102  0.7464  0.0860  0.5965     0.294137\n",
       "2        3  0.0004  0.6916  0.5006  0.5318    -0.098634\n",
       "3        4  0.9430  0.4476  0.2648  0.6843    -0.127220\n",
       "4        5  0.1399  0.1610  0.2477  0.2872     0.641866"
      ]
     },
     "metadata": {},
     "output_type": "display_data"
    }
   ],
   "source": [
    "# Agregar la columna de valores predichos al DataFrame df_val\n",
    "df_val['d_predicted'] = y_val_hat\n",
    "\n",
    "# Mostrar el DataFrame modificado\n",
    "display(df_val.head())"
   ]
  },
  {
   "cell_type": "code",
   "execution_count": 44,
   "id": "Mv40ujrh2hlB",
   "metadata": {
    "colab": {
     "base_uri": "https://localhost:8080/",
     "height": 300
    },
    "id": "Mv40ujrh2hlB",
    "outputId": "5d1b2384-592d-4a1f-e39d-6d63ebd79a38"
   },
   "outputs": [
    {
     "data": {
      "text/html": [
       "<div>\n",
       "<style scoped>\n",
       "    .dataframe tbody tr th:only-of-type {\n",
       "        vertical-align: middle;\n",
       "    }\n",
       "\n",
       "    .dataframe tbody tr th {\n",
       "        vertical-align: top;\n",
       "    }\n",
       "\n",
       "    .dataframe thead th {\n",
       "        text-align: right;\n",
       "    }\n",
       "</style>\n",
       "<table border=\"1\" class=\"dataframe\">\n",
       "  <thead>\n",
       "    <tr style=\"text-align: right;\">\n",
       "      <th></th>\n",
       "      <th>Samples</th>\n",
       "      <th>x1</th>\n",
       "      <th>x2</th>\n",
       "      <th>x3</th>\n",
       "      <th>d</th>\n",
       "      <th>d_predicted</th>\n",
       "    </tr>\n",
       "  </thead>\n",
       "  <tbody>\n",
       "    <tr>\n",
       "      <th>count</th>\n",
       "      <td>20.00000</td>\n",
       "      <td>20.000000</td>\n",
       "      <td>20.000000</td>\n",
       "      <td>20.000000</td>\n",
       "      <td>20.000000</td>\n",
       "      <td>20.000000</td>\n",
       "    </tr>\n",
       "    <tr>\n",
       "      <th>mean</th>\n",
       "      <td>10.50000</td>\n",
       "      <td>0.432990</td>\n",
       "      <td>0.446075</td>\n",
       "      <td>0.536075</td>\n",
       "      <td>0.602860</td>\n",
       "      <td>0.284640</td>\n",
       "    </tr>\n",
       "    <tr>\n",
       "      <th>std</th>\n",
       "      <td>5.91608</td>\n",
       "      <td>0.338287</td>\n",
       "      <td>0.278634</td>\n",
       "      <td>0.280837</td>\n",
       "      <td>0.150726</td>\n",
       "      <td>0.359016</td>\n",
       "    </tr>\n",
       "    <tr>\n",
       "      <th>min</th>\n",
       "      <td>1.00000</td>\n",
       "      <td>0.000400</td>\n",
       "      <td>0.000700</td>\n",
       "      <td>0.086000</td>\n",
       "      <td>0.287200</td>\n",
       "      <td>-0.127220</td>\n",
       "    </tr>\n",
       "    <tr>\n",
       "      <th>25%</th>\n",
       "      <td>5.75000</td>\n",
       "      <td>0.171325</td>\n",
       "      <td>0.245575</td>\n",
       "      <td>0.270125</td>\n",
       "      <td>0.524150</td>\n",
       "      <td>-0.052555</td>\n",
       "    </tr>\n",
       "    <tr>\n",
       "      <th>50%</th>\n",
       "      <td>10.50000</td>\n",
       "      <td>0.308900</td>\n",
       "      <td>0.387000</td>\n",
       "      <td>0.571400</td>\n",
       "      <td>0.590050</td>\n",
       "      <td>0.194588</td>\n",
       "    </tr>\n",
       "    <tr>\n",
       "      <th>75%</th>\n",
       "      <td>15.25000</td>\n",
       "      <td>0.716150</td>\n",
       "      <td>0.662125</td>\n",
       "      <td>0.782000</td>\n",
       "      <td>0.710775</td>\n",
       "      <td>0.618071</td>\n",
       "    </tr>\n",
       "    <tr>\n",
       "      <th>max</th>\n",
       "      <td>20.00000</td>\n",
       "      <td>0.999100</td>\n",
       "      <td>0.934200</td>\n",
       "      <td>0.904600</td>\n",
       "      <td>0.809300</td>\n",
       "      <td>0.940042</td>\n",
       "    </tr>\n",
       "  </tbody>\n",
       "</table>\n",
       "</div>"
      ],
      "text/plain": [
       "        Samples         x1         x2         x3          d  d_predicted\n",
       "count  20.00000  20.000000  20.000000  20.000000  20.000000    20.000000\n",
       "mean   10.50000   0.432990   0.446075   0.536075   0.602860     0.284640\n",
       "std     5.91608   0.338287   0.278634   0.280837   0.150726     0.359016\n",
       "min     1.00000   0.000400   0.000700   0.086000   0.287200    -0.127220\n",
       "25%     5.75000   0.171325   0.245575   0.270125   0.524150    -0.052555\n",
       "50%    10.50000   0.308900   0.387000   0.571400   0.590050     0.194588\n",
       "75%    15.25000   0.716150   0.662125   0.782000   0.710775     0.618071\n",
       "max    20.00000   0.999100   0.934200   0.904600   0.809300     0.940042"
      ]
     },
     "execution_count": 44,
     "metadata": {},
     "output_type": "execute_result"
    }
   ],
   "source": [
    "df_val.describe()"
   ]
  },
  {
   "cell_type": "code",
   "execution_count": 45,
   "id": "56a338ad",
   "metadata": {
    "id": "56a338ad"
   },
   "outputs": [],
   "source": [
    "y_val_hat = predict(X_val_c).reshape(-1)"
   ]
  },
  {
   "cell_type": "markdown",
   "id": "e64b3146",
   "metadata": {
    "id": "e64b3146"
   },
   "source": [
    "Implementar la fórmula del Error Relativo Medio (MRE) y calcularlo utilizando los valores deseados (`y_val`) y las predicciones (`y_val_hat`).\n"
   ]
  },
  {
   "cell_type": "code",
   "execution_count": 46,
   "id": "08efbe19",
   "metadata": {
    "id": "08efbe19"
   },
   "outputs": [],
   "source": [
    "y_val_1d = y_val.reshape(-1)\n",
    "relative_error = np.abs(y_val_1d - y_val_hat) / y_val_1d\n",
    "mre = np.mean(relative_error)"
   ]
  },
  {
   "cell_type": "markdown",
   "id": "7882204f",
   "metadata": {
    "id": "7882204f"
   },
   "source": [
    "\n",
    "Mostrar el valor calculado del Error Relativo Medio (MRE).\n"
   ]
  },
  {
   "cell_type": "code",
   "execution_count": 47,
   "id": "ac94f301",
   "metadata": {
    "colab": {
     "base_uri": "https://localhost:8080/"
    },
    "id": "ac94f301",
    "outputId": "18e563b4-90a3-437c-8895-c976ba5e4dc4"
   },
   "outputs": [
    {
     "name": "stdout",
     "output_type": "stream",
     "text": [
      "Error Relativo Medio (MRE): 0.8660931201438382\n"
     ]
    }
   ],
   "source": [
    "print(\"Error Relativo Medio (MRE):\", mre)"
   ]
  },
  {
   "cell_type": "markdown",
   "id": "87ff54f6",
   "metadata": {
    "id": "87ff54f6"
   },
   "source": [
    "Modificar la función para que devuelva los pesos (W1, W2, W3) y sesgos (b1, b2, b3) entrenados al final de cada ejecución."
   ]
  },
  {
   "cell_type": "code",
   "execution_count": 48,
   "id": "1b952e4e",
   "metadata": {
    "id": "1b952e4e"
   },
   "outputs": [],
   "source": [
    "def train_mlp_track(Xtr_c, ytr, Xva_c, yva, *,\n",
    "                    d_h1=32, d_h2=16, lr=1e-3, l2=0,\n",
    "                    epochs=2000, batch=32, seed=42,\n",
    "                    activation='relu', tol=1e-6):\n",
    "\n",
    "    rng = np.random.default_rng(seed)\n",
    "    d_in, d_out = Xtr_c.shape[1], 1\n",
    "    W1 = rng.normal(0, np.sqrt(2/d_in),  (d_in,d_h1)); b1 = np.zeros(d_h1)\n",
    "    W2 = rng.normal(0, np.sqrt(2/d_h1), (d_h1,d_h2));  b2 = np.zeros(d_h2)\n",
    "    W3 = rng.normal(0, np.sqrt(2/d_h2), (d_h2,d_out)); b3 = np.zeros(d_out)\n",
    "\n",
    "    def sigmoid(z): return 1/(1 + np.exp(-z))\n",
    "    def sigmoid_d(z): return sigmoid(z) * (1 - sigmoid(z))\n",
    "    def relu(z): return np.maximum(0,z)\n",
    "    def relu_d(z): return (z>0).astype(z.dtype)\n",
    "    def mse(yh,y): return np.mean((yh-y)**2)\n",
    "    N = len(Xtr_c)\n",
    "\n",
    "    prev_va_mse = float('inf')\n",
    "    hist_tr, hist_va = [], []\n",
    "\n",
    "\n",
    "    for ep in range(epochs):\n",
    "        for s in range(0, N, batch):\n",
    "            xb, yb = Xtr_c[s:s+batch], ytr[s:s+batch]\n",
    "\n",
    "            # Forward pass\n",
    "            z1 = xb @ W1 + b1\n",
    "            h1 = relu(z1) if activation == 'relu' else sigmoid(z1)\n",
    "            z2 = h1 @ W2 + b2\n",
    "            h2 = relu(z2) if activation == 'relu' else sigmoid(z2)\n",
    "            yhat = h2 @ W3 + b3\n",
    "\n",
    "            # Backward pass\n",
    "            dY  = (yhat - yb)/len(xb)\n",
    "            gW3 = h2.T @ dY + (2*l2/N)*W3; gb3 = dY.sum(0)\n",
    "\n",
    "            dh2 = dY @ W3.T\n",
    "            dz2 = dh2 * (relu_d(z2) if activation == 'relu' else sigmoid_d(z2))\n",
    "            gW2 = h1.T @ dz2 + (2*l2/N)*W2; gb2 = dz2.sum(0)\n",
    "\n",
    "            dh1 = dz2 @ W2.T\n",
    "            dz1 = dh1 * (relu_d(z1) if activation == 'relu' else sigmoid_d(z1))\n",
    "            gW1 = xb.T @ dz1 + (2*l2/N)*W1; gb1 = dz1.sum(0)\n",
    "\n",
    "            W3 -= lr*gW3; b3 -= lr*gb3\n",
    "            W2 -= lr*gW2; b2 -= lr*gb2\n",
    "            W1 -= lr*gW1; b1 -= lr*gb1\n",
    "\n",
    "        # Calculate validation MSE and check stopping condition\n",
    "        def fwd(Xc):\n",
    "            h1_fwd = relu(Xc@W1+b1) if activation == 'relu' else sigmoid(Xc@W1+b1)\n",
    "            h2_fwd = relu(h1_fwd@W2+b2) if activation == 'relu' else sigmoid(h1_fwd@W2+b2)\n",
    "            return h2_fwd@W3+b3\n",
    "\n",
    "        va_mse = mse(fwd(Xva_c), yva)\n",
    "        hist_va.append(va_mse)\n",
    "        hist_tr.append(mse(fwd(Xtr_c), ytr))\n",
    "\n",
    "\n",
    "        if abs(prev_va_mse - va_mse) < tol:\n",
    "            break\n",
    "        prev_va_mse = va_mse\n",
    "\n",
    "    return hist_tr, hist_va, W1, b1, W2, b2, W3, b3"
   ]
  },
  {
   "cell_type": "markdown",
   "id": "84ada77a",
   "metadata": {
    "id": "84ada77a"
   },
   "source": [
    "\n",
    "Llamar a la función `train_mlp_track` cinco veces con los parámetros deseados y almacenar los conjuntos de pesos y sesgos devueltos por cada ejecución.\n"
   ]
  },
  {
   "cell_type": "code",
   "execution_count": 49,
   "id": "83e64de8",
   "metadata": {
    "id": "83e64de8"
   },
   "outputs": [],
   "source": [
    "trained_params = []\n",
    "for i in range(5):\n",
    "    hist_tr, hist_va, W1, b1, W2, b2, W3, b3 = train_mlp_track(Xtr_c, ytr, Xva_c, yva,\n",
    "                                                               activation='sigmoid',\n",
    "                                                               lr=0.1,\n",
    "                                                               tol=1e-6,\n",
    "                                                               seed=42 + i,\n",
    "                                                               epochs=5000)\n",
    "    trained_params.append((W1, b1, W2, b2, W3, b3))"
   ]
  },
  {
   "cell_type": "markdown",
   "id": "13e512fa",
   "metadata": {
    "id": "13e512fa"
   },
   "source": [
    "\n",
    "Iterar sobre los cinco conjuntos de pesos y sesgos almacenados. Para cada conjunto, usar la función `predict` (o una versión modificada que acepte pesos/sesgos como argumentos) para obtener las predicciones en `X_val_c`. Almacenar las predicciones de cada ejecución en una lista o estructura similar. Crear un DataFrame donde cada columna represente las predicciones de una de las cinco ejecuciones, y el índice sea el del DataFrame `df_val`.\n"
   ]
  },
  {
   "cell_type": "code",
   "execution_count": 50,
   "id": "f38efc52",
   "metadata": {
    "id": "f38efc52"
   },
   "outputs": [],
   "source": [
    "all_predictions = []\n",
    "\n",
    "def sigmoid(z): return 1/(1 + np.exp(-z))\n",
    "def relu(z): return np.maximum(0,z)\n",
    "\n",
    "\n",
    "def predict_with_params(Xc, W1, b1, W2, b2, W3, b3, activation='sigmoid'):\n",
    "    z1 = Xc @ W1 + b1\n",
    "    h1 = relu(z1) if activation == 'relu' else sigmoid(z1)\n",
    "    z2 = h1 @ W2 + b2\n",
    "    h2 = relu(z2) if activation == 'relu' else sigmoid(z2)\n",
    "    yhat = h2 @ W3 + b3\n",
    "    return yhat\n",
    "\n",
    "for i, (W1, b1, W2, b2, W3, b3) in enumerate(trained_params):\n",
    "    y_val_hat_run = predict_with_params(X_val_c, W1, b1, W2, b2, W3, b3, activation='sigmoid').reshape(-1)\n",
    "    all_predictions.append(y_val_hat_run)\n",
    "\n",
    "predictions_df = pd.DataFrame(all_predictions).T\n",
    "predictions_df.columns = [f'Prediction_{i+1}' for i in range(len(all_predictions))]\n",
    "predictions_df.index = df_val.index"
   ]
  },
  {
   "cell_type": "markdown",
   "id": "b7fe6d31",
   "metadata": {
    "id": "b7fe6d31"
   },
   "source": [
    "\n",
    "Mostrar el DataFrame resultante para visualizar las predicciones de cada una de las cinco validaciones.\n"
   ]
  },
  {
   "cell_type": "code",
   "execution_count": 51,
   "id": "85fb310b",
   "metadata": {
    "colab": {
     "base_uri": "https://localhost:8080/",
     "height": 677
    },
    "id": "85fb310b",
    "outputId": "b71441fe-1559-4822-cc87-4ef336580a80"
   },
   "outputs": [
    {
     "data": {
      "text/html": [
       "<div>\n",
       "<style scoped>\n",
       "    .dataframe tbody tr th:only-of-type {\n",
       "        vertical-align: middle;\n",
       "    }\n",
       "\n",
       "    .dataframe tbody tr th {\n",
       "        vertical-align: top;\n",
       "    }\n",
       "\n",
       "    .dataframe thead th {\n",
       "        text-align: right;\n",
       "    }\n",
       "</style>\n",
       "<table border=\"1\" class=\"dataframe\">\n",
       "  <thead>\n",
       "    <tr style=\"text-align: right;\">\n",
       "      <th></th>\n",
       "      <th>Prediction_1</th>\n",
       "      <th>Prediction_2</th>\n",
       "      <th>Prediction_3</th>\n",
       "      <th>Prediction_4</th>\n",
       "      <th>Prediction_5</th>\n",
       "    </tr>\n",
       "  </thead>\n",
       "  <tbody>\n",
       "    <tr>\n",
       "      <th>0</th>\n",
       "      <td>0.491190</td>\n",
       "      <td>0.508123</td>\n",
       "      <td>0.502928</td>\n",
       "      <td>0.493269</td>\n",
       "      <td>0.478616</td>\n",
       "    </tr>\n",
       "    <tr>\n",
       "      <th>1</th>\n",
       "      <td>0.593902</td>\n",
       "      <td>0.574036</td>\n",
       "      <td>0.577125</td>\n",
       "      <td>0.584111</td>\n",
       "      <td>0.595522</td>\n",
       "    </tr>\n",
       "    <tr>\n",
       "      <th>2</th>\n",
       "      <td>0.533475</td>\n",
       "      <td>0.532095</td>\n",
       "      <td>0.547419</td>\n",
       "      <td>0.537003</td>\n",
       "      <td>0.522662</td>\n",
       "    </tr>\n",
       "    <tr>\n",
       "      <th>3</th>\n",
       "      <td>0.691428</td>\n",
       "      <td>0.677665</td>\n",
       "      <td>0.675444</td>\n",
       "      <td>0.680907</td>\n",
       "      <td>0.699415</td>\n",
       "    </tr>\n",
       "    <tr>\n",
       "      <th>4</th>\n",
       "      <td>0.316047</td>\n",
       "      <td>0.323016</td>\n",
       "      <td>0.311497</td>\n",
       "      <td>0.318165</td>\n",
       "      <td>0.308804</td>\n",
       "    </tr>\n",
       "    <tr>\n",
       "      <th>5</th>\n",
       "      <td>0.733765</td>\n",
       "      <td>0.743545</td>\n",
       "      <td>0.737872</td>\n",
       "      <td>0.738391</td>\n",
       "      <td>0.735052</td>\n",
       "    </tr>\n",
       "    <tr>\n",
       "      <th>6</th>\n",
       "      <td>0.556169</td>\n",
       "      <td>0.562588</td>\n",
       "      <td>0.553850</td>\n",
       "      <td>0.552827</td>\n",
       "      <td>0.549279</td>\n",
       "    </tr>\n",
       "    <tr>\n",
       "      <th>7</th>\n",
       "      <td>0.657192</td>\n",
       "      <td>0.674710</td>\n",
       "      <td>0.676055</td>\n",
       "      <td>0.666864</td>\n",
       "      <td>0.654169</td>\n",
       "    </tr>\n",
       "    <tr>\n",
       "      <th>8</th>\n",
       "      <td>0.535549</td>\n",
       "      <td>0.521680</td>\n",
       "      <td>0.517085</td>\n",
       "      <td>0.524350</td>\n",
       "      <td>0.531901</td>\n",
       "    </tr>\n",
       "    <tr>\n",
       "      <th>9</th>\n",
       "      <td>0.583156</td>\n",
       "      <td>0.601837</td>\n",
       "      <td>0.592078</td>\n",
       "      <td>0.589472</td>\n",
       "      <td>0.577516</td>\n",
       "    </tr>\n",
       "    <tr>\n",
       "      <th>10</th>\n",
       "      <td>0.671809</td>\n",
       "      <td>0.682309</td>\n",
       "      <td>0.691159</td>\n",
       "      <td>0.679591</td>\n",
       "      <td>0.669881</td>\n",
       "    </tr>\n",
       "    <tr>\n",
       "      <th>11</th>\n",
       "      <td>0.659779</td>\n",
       "      <td>0.646421</td>\n",
       "      <td>0.645737</td>\n",
       "      <td>0.649844</td>\n",
       "      <td>0.665186</td>\n",
       "    </tr>\n",
       "    <tr>\n",
       "      <th>12</th>\n",
       "      <td>0.328172</td>\n",
       "      <td>0.334635</td>\n",
       "      <td>0.328670</td>\n",
       "      <td>0.330460</td>\n",
       "      <td>0.318317</td>\n",
       "    </tr>\n",
       "    <tr>\n",
       "      <th>13</th>\n",
       "      <td>0.782517</td>\n",
       "      <td>0.760082</td>\n",
       "      <td>0.771699</td>\n",
       "      <td>0.778000</td>\n",
       "      <td>0.792750</td>\n",
       "    </tr>\n",
       "    <tr>\n",
       "      <th>14</th>\n",
       "      <td>0.472823</td>\n",
       "      <td>0.491407</td>\n",
       "      <td>0.481748</td>\n",
       "      <td>0.474094</td>\n",
       "      <td>0.460070</td>\n",
       "    </tr>\n",
       "    <tr>\n",
       "      <th>15</th>\n",
       "      <td>0.820334</td>\n",
       "      <td>0.823462</td>\n",
       "      <td>0.817728</td>\n",
       "      <td>0.823166</td>\n",
       "      <td>0.823756</td>\n",
       "    </tr>\n",
       "    <tr>\n",
       "      <th>16</th>\n",
       "      <td>0.769580</td>\n",
       "      <td>0.781607</td>\n",
       "      <td>0.794162</td>\n",
       "      <td>0.783317</td>\n",
       "      <td>0.772466</td>\n",
       "    </tr>\n",
       "    <tr>\n",
       "      <th>17</th>\n",
       "      <td>0.590896</td>\n",
       "      <td>0.580555</td>\n",
       "      <td>0.592475</td>\n",
       "      <td>0.590720</td>\n",
       "      <td>0.588748</td>\n",
       "    </tr>\n",
       "    <tr>\n",
       "      <th>18</th>\n",
       "      <td>0.798683</td>\n",
       "      <td>0.787915</td>\n",
       "      <td>0.789468</td>\n",
       "      <td>0.793266</td>\n",
       "      <td>0.811794</td>\n",
       "    </tr>\n",
       "    <tr>\n",
       "      <th>19</th>\n",
       "      <td>0.497075</td>\n",
       "      <td>0.514817</td>\n",
       "      <td>0.504652</td>\n",
       "      <td>0.498654</td>\n",
       "      <td>0.485714</td>\n",
       "    </tr>\n",
       "  </tbody>\n",
       "</table>\n",
       "</div>"
      ],
      "text/plain": [
       "    Prediction_1  Prediction_2  Prediction_3  Prediction_4  Prediction_5\n",
       "0       0.491190      0.508123      0.502928      0.493269      0.478616\n",
       "1       0.593902      0.574036      0.577125      0.584111      0.595522\n",
       "2       0.533475      0.532095      0.547419      0.537003      0.522662\n",
       "3       0.691428      0.677665      0.675444      0.680907      0.699415\n",
       "4       0.316047      0.323016      0.311497      0.318165      0.308804\n",
       "5       0.733765      0.743545      0.737872      0.738391      0.735052\n",
       "6       0.556169      0.562588      0.553850      0.552827      0.549279\n",
       "7       0.657192      0.674710      0.676055      0.666864      0.654169\n",
       "8       0.535549      0.521680      0.517085      0.524350      0.531901\n",
       "9       0.583156      0.601837      0.592078      0.589472      0.577516\n",
       "10      0.671809      0.682309      0.691159      0.679591      0.669881\n",
       "11      0.659779      0.646421      0.645737      0.649844      0.665186\n",
       "12      0.328172      0.334635      0.328670      0.330460      0.318317\n",
       "13      0.782517      0.760082      0.771699      0.778000      0.792750\n",
       "14      0.472823      0.491407      0.481748      0.474094      0.460070\n",
       "15      0.820334      0.823462      0.817728      0.823166      0.823756\n",
       "16      0.769580      0.781607      0.794162      0.783317      0.772466\n",
       "17      0.590896      0.580555      0.592475      0.590720      0.588748\n",
       "18      0.798683      0.787915      0.789468      0.793266      0.811794\n",
       "19      0.497075      0.514817      0.504652      0.498654      0.485714"
      ]
     },
     "metadata": {},
     "output_type": "display_data"
    }
   ],
   "source": [
    "display(predictions_df)# para punto 6"
   ]
  }
 ],
 "metadata": {
  "colab": {
   "provenance": []
  },
  "kernelspec": {
   "display_name": "Python 3 (ipykernel)",
   "language": "python",
   "name": "python3"
  },
  "language_info": {
   "codemirror_mode": {
    "name": "ipython",
    "version": 3
   },
   "file_extension": ".py",
   "mimetype": "text/x-python",
   "name": "python",
   "nbconvert_exporter": "python",
   "pygments_lexer": "ipython3",
   "version": "3.12.2"
  }
 },
 "nbformat": 4,
 "nbformat_minor": 5
}
